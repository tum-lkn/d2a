{
 "cells": [
  {
   "cell_type": "code",
   "execution_count": 439,
   "id": "7b11950c",
   "metadata": {},
   "outputs": [],
   "source": [
    "import numpy as np\n",
    "import pandas as pd\n",
    "import networkx as nx\n",
    "import os\n",
    "import sys\n",
    "import matplotlib.pyplot as plt\n",
    "import subprocess\n",
    "from importlib import reload\n",
    "from typing import List, Tuple, Dict, Any\n",
    "import json\n",
    "import sys\n",
    "from scipy.stats import ttest_ind\n",
    "from importlib import reload\n",
    "\n",
    "sys.path.insert(0, '/opt/project')\n",
    "import dataprep.utils as dutils\n",
    "import dataprep.graph as dgr\n",
    "import scripts.plot_results as evaldqn\n",
    "import evaluation.plotutils as plutils\n",
    "import layers.datasets as ds\n",
    "import layers.vnfmodel as vnfmod"
   ]
  },
  {
   "cell_type": "code",
   "execution_count": 786,
   "id": "65e5a462",
   "metadata": {},
   "outputs": [
    {
     "data": {
      "text/plain": [
       "[<matplotlib.lines.Line2D at 0x7f46b3b060d0>]"
      ]
     },
     "execution_count": 786,
     "metadata": {},
     "output_type": "execute_result"
    },
    {
     "data": {
      "image/png": "[encoded data removed]",
      "text/plain": [
       "<Figure size 432x288 with 1 Axes>"
      ]
     },
     "metadata": {
      "needs_background": "light"
     },
     "output_type": "display_data"
    }
   ],
   "source": [
    "plt.plot(np.clip(np.power(0.9985, np.arange(3000)), 1e-3, 5))"
   ]
  },
  {
   "cell_type": "code",
   "execution_count": 737,
   "id": "c31fdfde",
   "metadata": {},
   "outputs": [],
   "source": [
    "plt.rcParams.update({\n",
    "    \"font.size\": 9,\n",
    "    \"text.usetex\": True,\n",
    "    \"font.family\": \"serif\",\n",
    "    \"font.sans-serif\": [\"Times\"]})"
   ]
  },
  {
   "cell_type": "code",
   "execution_count": 669,
   "id": "9c5ecf55",
   "metadata": {},
   "outputs": [
    {
     "data": {
      "text/plain": [
       "Text(0.5, 0, 'LB\\\\textsubscript{LB}')"
      ]
     },
     "execution_count": 669,
     "metadata": {},
     "output_type": "execute_result"
    },
    {
     "data": {
      "image/png": "[encoded data removed]",
      "text/plain": [
       "<Figure size 432x288 with 1 Axes>"
      ]
     },
     "metadata": {
      "needs_background": "light"
     },
     "output_type": "display_data"
    }
   ],
   "source": [
    "ax = plt.subplot()\n",
    "ax.plot(np.arange(10))\n",
    "ax.set_xlabel(\"LB\\\\textsubscript{LB}\")"
   ]
  },
  {
   "cell_type": "code",
   "execution_count": 746,
   "id": "de1d2ba2",
   "metadata": {},
   "outputs": [
    {
     "data": {
      "text/plain": [
       "['#e41a1c',\n",
       " '#377eb8',\n",
       " '#4daf4a',\n",
       " '#984ea3',\n",
       " '#ff7f00',\n",
       " '#ffff33',\n",
       " '#a65628',\n",
       " '#f781bf']"
      ]
     },
     "execution_count": 746,
     "metadata": {},
     "output_type": "execute_result"
    }
   ],
   "source": [
    "plutils.COLORS"
   ]
  },
  {
   "cell_type": "code",
   "execution_count": 745,
   "id": "87b58199",
   "metadata": {},
   "outputs": [
    {
     "data": {
      "text/plain": [
       "<BarContainer object of 8 artists>"
      ]
     },
     "execution_count": 745,
     "metadata": {},
     "output_type": "execute_result"
    },
    {
     "data": {
      "image/png": "[encoded data removed]",
      "text/plain": [
       "<Figure size 432x288 with 1 Axes>"
      ]
     },
     "metadata": {
      "needs_background": "light"
     },
     "output_type": "display_data"
    }
   ],
   "source": [
    "plt.bar(np.arange(len(plutils.COLORS)), height=np.ones(len(plutils.COLORS)), color=plutils.COLORS)"
   ]
  },
  {
   "cell_type": "code",
   "execution_count": 671,
   "id": "5d9ae26b",
   "metadata": {},
   "outputs": [
    {
     "data": {
      "text/plain": [
       "<module 'scripts.plot_results' from '/opt/project/scripts/plot_results.py'>"
      ]
     },
     "execution_count": 671,
     "metadata": {},
     "output_type": "execute_result"
    }
   ],
   "source": [
    "reload(plutils)\n",
    "reload(evaldqn)"
   ]
  },
  {
   "cell_type": "code",
   "execution_count": 470,
   "id": "9c31d403",
   "metadata": {},
   "outputs": [
    {
     "data": {
      "text/plain": [
       "2699"
      ]
     },
     "execution_count": 470,
     "metadata": {},
     "output_type": "execute_result"
    }
   ],
   "source": [
    "np.sum([len(v) for k, v in all_graphs.items() if k.find('DT') == -1])"
   ]
  },
  {
   "cell_type": "code",
   "execution_count": 334,
   "id": "bcf0826b",
   "metadata": {},
   "outputs": [
    {
     "data": {
      "text/plain": [
       "{'path': '/opt/project/data/nas/dqn_assignments_result/least-loaded-first-l100-1-mpps/dqn_eval-p0053-i00'}"
      ]
     },
     "execution_count": 334,
     "metadata": {},
     "output_type": "execute_result"
    }
   ],
   "source": [
    "all_graphs['LLF-100-1'][0].graph"
   ]
  },
  {
   "cell_type": "code",
   "execution_count": 477,
   "id": "e78301e4",
   "metadata": {},
   "outputs": [
    {
     "data": {
      "text/plain": [
       "{'node_type': 'vnf',\n",
       " 'index': 48,\n",
       " 'name': 'vnf_1_6',\n",
       " 'position': 7,\n",
       " 'throughput': 341138.86113886116,\n",
       " 'arrival_rate': 363408.0,\n",
       " 'cost': 1003.0,\n",
       " 'demand': 364498224.0,\n",
       " 'ratio': 1.0}"
      ]
     },
     "execution_count": 477,
     "metadata": {},
     "output_type": "execute_result"
    }
   ],
   "source": [
    "all_graphs['LLF-100-1'][0].nodes[48]"
   ]
  },
  {
   "cell_type": "code",
   "execution_count": 344,
   "id": "8cf3846e",
   "metadata": {},
   "outputs": [
    {
     "data": {
      "text/plain": [
       "NodeDataView({0: {'node_type': 'socket', 'index': 0, 'name': 'socket_0'}, 7: {'node_type': 'cpu', 'index': 7, 'name': 'cpu_0', 'cost': 0, 'arrival_rate': 0, 'demand': 0, 'min_ratio': -1, 'max_ratio': -1, 'ratio_ratio': -1}, 8: {'node_type': 'cpu', 'index': 8, 'name': 'cpu_1', 'cost': 0, 'arrival_rate': 0, 'demand': 0, 'min_ratio': -1, 'max_ratio': -1, 'ratio_ratio': -1}, 9: {'node_type': 'cpu', 'index': 9, 'name': 'cpu_2', 'cost': 0, 'arrival_rate': 0, 'demand': 0, 'min_ratio': -1, 'max_ratio': -1, 'ratio_ratio': -1}, 10: {'node_type': 'cpu', 'index': 10, 'name': 'cpu_3', 'cost': 0, 'arrival_rate': 0, 'demand': 0, 'min_ratio': -1, 'max_ratio': -1, 'ratio_ratio': -1}, 11: {'node_type': 'cpu', 'index': 11, 'name': 'cpu_4', 'cost': 0, 'arrival_rate': 0, 'demand': 0, 'min_ratio': -1, 'max_ratio': -1, 'ratio_ratio': -1}, 12: {'node_type': 'cpu', 'index': 12, 'name': 'cpu_5', 'cost': 110.0, 'arrival_rate': 999998.0, 'demand': 109999780.0, 'min_ratio': 1.0, 'max_ratio': 1.0, 'ratio_ratio': 0.0}, 13: {'node_type': 'cpu', 'index': 13, 'name': 'cpu_6', 'cost': 0, 'arrival_rate': 0, 'demand': 0, 'min_ratio': -1, 'max_ratio': -1, 'ratio_ratio': -1}, 14: {'node_type': 'cpu', 'index': 14, 'name': 'cpu_7', 'hard_overload': False, 'soft_overload': False, 'cost': 1270.0, 'arrival_rate': 636590.0, 'demand': 394499738.0, 'min_ratio': 0.48196916419751845, 'max_ratio': 0.5180308358024815, 'ratio_ratio': 0.06961298268876204}, 15: {'node_type': 'cpu', 'index': 15, 'name': 'cpu_8', 'hard_overload': False, 'soft_overload': False, 'cost': 2437.0, 'arrival_rate': 636590.0, 'demand': 692661603.0, 'min_ratio': 0.25242928905357553, 'max_ratio': 0.7475707109464245, 'ratio_ratio': 0.6623338965032484}, 16: {'node_type': 'cpu', 'index': 16, 'name': 'cpu_9', 'hard_overload': False, 'soft_overload': False, 'cost': 1350.0, 'arrival_rate': 373607.0, 'demand': 504369450.0, 'min_ratio': 1.0, 'max_ratio': 1.0, 'ratio_ratio': 0.0}, 17: {'node_type': 'cpu', 'index': 17, 'name': 'cpu_10', 'hard_overload': False, 'soft_overload': False, 'cost': 1128.0, 'arrival_rate': 373607.0, 'demand': 421428696.0, 'min_ratio': 1.0, 'max_ratio': 1.0, 'ratio_ratio': 0.0}, 1: {'node_type': 'socket', 'index': 1, 'name': 'socket_1'}, 18: {'node_type': 'cpu', 'index': 18, 'name': 'cpu_11', 'hard_overload': False, 'soft_overload': False, 'cost': 1643.0, 'arrival_rate': 373607.0, 'demand': 613836301.0, 'min_ratio': 1.0, 'max_ratio': 1.0, 'ratio_ratio': 0.0}, 19: {'node_type': 'cpu', 'index': 19, 'name': 'cpu_12', 'hard_overload': False, 'soft_overload': False, 'cost': 977.0, 'arrival_rate': 373607.0, 'demand': 365014039.0, 'min_ratio': 1.0, 'max_ratio': 1.0, 'ratio_ratio': 0.0}, 20: {'node_type': 'cpu', 'index': 20, 'name': 'cpu_13', 'hard_overload': False, 'soft_overload': False, 'cost': 1237.0, 'arrival_rate': 636590.0, 'demand': 408167347.0, 'min_ratio': 0.31441933055953153, 'max_ratio': 0.6855806694404685, 'ratio_ratio': 0.5413824447294546}, 21: {'node_type': 'cpu', 'index': 21, 'name': 'cpu_14', 'hard_overload': False, 'soft_overload': False, 'cost': 2340.0, 'arrival_rate': 636590.0, 'demand': 651333020.0, 'min_ratio': 0.18642118742882097, 'max_ratio': 0.813578812571179, 'ratio_ratio': 0.7708627799196637}, 22: {'node_type': 'cpu', 'index': 22, 'name': 'cpu_15', 'hard_overload': False, 'soft_overload': False, 'cost': 1695.0, 'arrival_rate': 363408.0, 'demand': 615976560.0, 'min_ratio': 1.0, 'max_ratio': 1.0, 'ratio_ratio': 0.0}, 23: {'node_type': 'cpu', 'index': 23, 'name': 'cpu_16', 'hard_overload': False, 'soft_overload': False, 'cost': 1695.0, 'arrival_rate': 363408.0, 'demand': 615976560.0, 'min_ratio': 1.0, 'max_ratio': 1.0, 'ratio_ratio': 0.0}, 24: {'node_type': 'cpu', 'index': 24, 'name': 'cpu_17', 'hard_overload': False, 'soft_overload': False, 'cost': 984.0, 'arrival_rate': 363408.0, 'demand': 357593472.0, 'min_ratio': 1.0, 'max_ratio': 1.0, 'ratio_ratio': 0.0}, 25: {'node_type': 'cpu', 'index': 25, 'name': 'cpu_18', 'hard_overload': False, 'soft_overload': False, 'cost': 1425.0, 'arrival_rate': 889374.0, 'demand': 442738500.0, 'min_ratio': 0.22037092550117054, 'max_ratio': 0.5556941987200119, 'ratio_ratio': 0.6034313008687624}, 26: {'node_type': 'cpu', 'index': 26, 'name': 'cpu_19', 'hard_overload': False, 'soft_overload': False, 'cost': 1128.0, 'arrival_rate': 363408.0, 'demand': 409924224.0, 'min_ratio': 1.0, 'max_ratio': 1.0, 'ratio_ratio': 0.0}, 27: {'node_type': 'cpu', 'index': 27, 'name': 'cpu_20', 'hard_overload': False, 'soft_overload': False, 'cost': 1589.0, 'arrival_rate': 626391.0, 'demand': 481951137.0, 'min_ratio': 0.4810742961272441, 'max_ratio': 0.5189257038727558, 'ratio_ratio': 0.07294186328221108}, 28: {'node_type': 'cpu', 'index': 28, 'name': 'cpu_21', 'hard_overload': False, 'soft_overload': False, 'cost': 1003.0, 'arrival_rate': 363408.0, 'demand': 364498224.0, 'min_ratio': 1.0, 'max_ratio': 1.0, 'ratio_ratio': 0.0}, 29: {'node_type': 'cpu', 'index': 29, 'name': 'cpu_22', 'hard_overload': False, 'soft_overload': False, 'cost': 1824.0, 'arrival_rate': 626391.0, 'demand': 535216017.0, 'min_ratio': 0.3754832023272577, 'max_ratio': 0.6245167976727423, 'ratio_ratio': 0.39876204494980216}, 2: {'node_type': 'tx_thread', 'index': 2, 'name': 'tx_thread_0', 'arrival_rate': 2252780.0}, 33: {'node_type': 'vnf', 'index': 33, 'name': 'divider', 'position': 0, 'throughput': 937200.0999000999, 'arrival_rate': 999998.0, 'cost': 110.0, 'demand': 109999780.0, 'ratio': 1.0}, 43: {'node_type': 'vnf', 'index': 43, 'name': 'vnf_1_1', 'position': 2, 'throughput': 341138.86113886116, 'arrival_rate': 363408.0, 'cost': 1695.0, 'demand': 615976560.0, 'ratio': 1.0}, 47: {'node_type': 'vnf', 'index': 47, 'name': 'vnf_1_5', 'position': 6, 'throughput': 341138.86113886116, 'arrival_rate': 363408.0, 'cost': 638.0, 'demand': 231854304.0, 'ratio': 0.4810742961272441}, 51: {'node_type': 'vnf', 'index': 51, 'name': 'vnf_2_1', 'position': 2, 'throughput': 245784.21578421578, 'arrival_rate': 262983.0, 'cost': 1969.0, 'demand': 517813527.0, 'ratio': 0.7475707109464245}, 55: {'node_type': 'vnf', 'index': 55, 'name': 'vnf_2_5', 'position': 6, 'throughput': 245784.21578421578, 'arrival_rate': 262983.0, 'cost': 377.0, 'demand': 99144591.0, 'ratio': 0.22393487577881752}, 3: {'node_type': 'tx_thread', 'index': 3, 'name': 'tx_thread_1', 'arrival_rate': 2110620.0}, 34: {'node_type': 'vnf', 'index': 34, 'name': 'vnf_0_0', 'position': 1, 'throughput': 350276.92307692306, 'arrival_rate': 373607.0, 'cost': 547.0, 'demand': 204363029.0, 'ratio': 0.5180308358024815}, 37: {'node_type': 'vnf', 'index': 37, 'name': 'vnf_0_3', 'position': 4, 'throughput': 350276.4235764236, 'arrival_rate': 373607.0, 'cost': 1128.0, 'demand': 421428696.0, 'ratio': 1.0}, 40: {'node_type': 'vnf', 'index': 40, 'name': 'vnf_0_6', 'position': 7, 'throughput': 350276.023976024, 'arrival_rate': 373607.0, 'cost': 749.0, 'demand': 279831643.0, 'ratio': 0.6855806694404685}, 45: {'node_type': 'vnf', 'index': 45, 'name': 'vnf_1_3', 'position': 4, 'throughput': 341138.86113886116, 'arrival_rate': 363408.0, 'cost': 677.0, 'demand': 246027216.0, 'ratio': 0.5556941987200119}, 49: {'node_type': 'vnf', 'index': 49, 'name': 'vnf_1_7', 'position': 8, 'throughput': 341138.86113886116, 'arrival_rate': 363408.0, 'cost': 553.0, 'demand': 200964624.0, 'ratio': 0.3754832023272577}, 54: {'node_type': 'vnf', 'index': 54, 'name': 'vnf_2_4', 'position': 5, 'throughput': 245784.21578421578, 'arrival_rate': 262983.0, 'cost': 951.0, 'demand': 250096833.0, 'ratio': 0.5189257038727558}, 4: {'node_type': 'tx_thread', 'index': 4, 'name': 'tx_thread_2', 'arrival_rate': 2273178.0}, 35: {'node_type': 'vnf', 'index': 35, 'name': 'vnf_0_1', 'position': 2, 'throughput': 350276.7232767233, 'arrival_rate': 373607.0, 'cost': 468.0, 'demand': 174848076.0, 'ratio': 0.25242928905357553}, 38: {'node_type': 'vnf', 'index': 38, 'name': 'vnf_0_4', 'position': 5, 'throughput': 350276.4235764236, 'arrival_rate': 373607.0, 'cost': 1643.0, 'demand': 613836301.0, 'ratio': 1.0}, 41: {'node_type': 'vnf', 'index': 41, 'name': 'vnf_0_7', 'position': 8, 'throughput': 350276.023976024, 'arrival_rate': 373607.0, 'cost': 325.0, 'demand': 121422275.0, 'ratio': 0.18642118742882097}, 46: {'node_type': 'vnf', 'index': 46, 'name': 'vnf_1_4', 'position': 5, 'throughput': 341138.86113886116, 'arrival_rate': 363408.0, 'cost': 1128.0, 'demand': 409924224.0, 'ratio': 1.0}, 50: {'node_type': 'vnf', 'index': 50, 'name': 'vnf_2_0', 'position': 1, 'throughput': 245784.21578421578, 'arrival_rate': 262983.0, 'cost': 2015.0, 'demand': 529910745.0, 'ratio': 0.813578812571179}, 52: {'node_type': 'vnf', 'index': 52, 'name': 'vnf_2_2', 'position': 3, 'throughput': 245784.21578421578, 'arrival_rate': 262983.0, 'cost': 1271.0, 'demand': 334251393.0, 'ratio': 0.6245167976727423}, 56: {'node_type': 'vnf', 'index': 56, 'name': 'vnf_2_6', 'position': 7, 'throughput': 245784.21578421578, 'arrival_rate': 262983.0, 'cost': 488.0, 'demand': 128335704.0, 'ratio': 0.31441933055953153}, 5: {'node_type': 'tx_thread', 'index': 5, 'name': 'tx_thread_3', 'arrival_rate': 2363404.0}, 36: {'node_type': 'vnf', 'index': 36, 'name': 'vnf_0_2', 'position': 3, 'throughput': 350276.4235764236, 'arrival_rate': 373607.0, 'cost': 1350.0, 'demand': 504369450.0, 'ratio': 1.0}, 39: {'node_type': 'vnf', 'index': 39, 'name': 'vnf_0_5', 'position': 6, 'throughput': 350276.2237762238, 'arrival_rate': 373607.0, 'cost': 977.0, 'demand': 365014039.0, 'ratio': 1.0}, 42: {'node_type': 'vnf', 'index': 42, 'name': 'vnf_1_0', 'position': 1, 'throughput': 341138.86113886116, 'arrival_rate': 363408.0, 'cost': 1695.0, 'demand': 615976560.0, 'ratio': 1.0}, 44: {'node_type': 'vnf', 'index': 44, 'name': 'vnf_1_2', 'position': 3, 'throughput': 341138.86113886116, 'arrival_rate': 363408.0, 'cost': 984.0, 'demand': 357593472.0, 'ratio': 1.0}, 48: {'node_type': 'vnf', 'index': 48, 'name': 'vnf_1_6', 'position': 7, 'throughput': 341138.86113886116, 'arrival_rate': 363408.0, 'cost': 1003.0, 'demand': 364498224.0, 'ratio': 1.0}, 53: {'node_type': 'vnf', 'index': 53, 'name': 'vnf_2_3', 'position': 4, 'throughput': 245784.21578421578, 'arrival_rate': 262983.0, 'cost': 723.0, 'demand': 190136709.0, 'ratio': 0.48196916419751845}, 57: {'node_type': 'vnf', 'index': 57, 'name': 'vnf_2_7', 'position': 8, 'throughput': 245784.21578421578, 'arrival_rate': 262983.0, 'cost': 371.0, 'demand': 97566693.0, 'ratio': 0.22037092550117054}, 6: {'node_type': 'rx_thread', 'index': 6, 'name': 'rx_thread_0'}, 30: {'node_type': 'sfc', 'index': 30, 'name': 'sfc_0', 'throughput': 349681.124389482, 'latency': 0.06166986374999999}, 31: {'node_type': 'sfc', 'index': 31, 'name': 'sfc_1', 'throughput': 340669.511172126, 'latency': 0.06897396374999999}, 32: {'node_type': 'sfc', 'index': 32, 'name': 'sfc_2', 'throughput': 245394.735503921, 'latency': 0.07058877374999999}, 59: {'node_type': 'port', 'index': 59, 'name': 'in_port_0'}, 58: {'node_type': 'port', 'index': 58, 'name': 'out_port_0'}})"
      ]
     },
     "execution_count": 344,
     "metadata": {},
     "output_type": "execute_result"
    }
   ],
   "source": [
    "all_graphs['LLF-100-1'][0].nodes(data=True)"
   ]
  },
  {
   "cell_type": "markdown",
   "id": "e123df66",
   "metadata": {},
   "source": [
    "# Obtain Data"
   ]
  },
  {
   "cell_type": "code",
   "execution_count": 50,
   "id": "07798f31",
   "metadata": {},
   "outputs": [
    {
     "name": "stderr",
     "output_type": "stream",
     "text": [
      "No objects to concatenate\n",
      "Traceback (most recent call last):\n",
      "  File \"/opt/project/scripts/plot_results.py\", line 152, in load_algo_results\n",
      "    dfs.append(dutils.load_moongen_thoughput(os.path.join(path, f)))\n",
      "  File \"/opt/project/dataprep/utils.py\", line 469, in load_moongen_thoughput\n",
      "    return pd.concat(dfs, axis=0)\n",
      "  File \"/opt/conda/lib/python3.8/site-packages/pandas/util/_decorators.py\", line 311, in wrapper\n",
      "    return func(*args, **kwargs)\n",
      "  File \"/opt/conda/lib/python3.8/site-packages/pandas/core/reshape/concat.py\", line 294, in concat\n",
      "    op = _Concatenator(\n",
      "  File \"/opt/conda/lib/python3.8/site-packages/pandas/core/reshape/concat.py\", line 351, in __init__\n",
      "    raise ValueError(\"No objects to concatenate\")\n",
      "ValueError: No objects to concatenate\n",
      "No objects to concatenate\n",
      "Traceback (most recent call last):\n",
      "  File \"/opt/project/scripts/plot_results.py\", line 152, in load_algo_results\n",
      "    dfs.append(dutils.load_moongen_thoughput(os.path.join(path, f)))\n",
      "  File \"/opt/project/dataprep/utils.py\", line 469, in load_moongen_thoughput\n",
      "    return pd.concat(dfs, axis=0)\n",
      "  File \"/opt/conda/lib/python3.8/site-packages/pandas/util/_decorators.py\", line 311, in wrapper\n",
      "    return func(*args, **kwargs)\n",
      "  File \"/opt/conda/lib/python3.8/site-packages/pandas/core/reshape/concat.py\", line 294, in concat\n",
      "    op = _Concatenator(\n",
      "  File \"/opt/conda/lib/python3.8/site-packages/pandas/core/reshape/concat.py\", line 351, in __init__\n",
      "    raise ValueError(\"No objects to concatenate\")\n",
      "ValueError: No objects to concatenate\n"
     ]
    }
   ],
   "source": [
    "results = evaldqn.eval_test_runs('rc')\n",
    "with open(\"/opt/project/data/moongen-throughput-results-rc.json\", 'w') as fh:\n",
    "    json.dump(results, fh)\n",
    "results = {k: np.array(v) for k, v in results.items()}"
   ]
  },
  {
   "cell_type": "code",
   "execution_count": 52,
   "id": "85b408aa",
   "metadata": {},
   "outputs": [],
   "source": [
    "results_rc = results"
   ]
  },
  {
   "cell_type": "code",
   "execution_count": 53,
   "id": "21182c02",
   "metadata": {},
   "outputs": [
    {
     "data": {
      "text/plain": [
       "{'FFD-70-2.5': 2151543.7029999997,\n",
       " 'FFD-100-2.5': 1818357.6840000006,\n",
       " 'RL-1N-1': 920656.5809999998,\n",
       " 'FFD-85-1': 849600.443,\n",
       " 'GEN-70-2.5': 2146611.153,\n",
       " 'RL-LB-1N-2.5': 2313338.61,\n",
       " 'FFD-100-1': 783630.5930000001,\n",
       " 'RL-LB-1N-2.5-fail': 2095994.5910000002,\n",
       " 'RL-LB-1N-DT-2.5': 2317784.8049999997,\n",
       " 'LLFD-100-1': 934989.0490000001,\n",
       " 'LLFD-100-2.5': 2329479.943,\n",
       " 'FFD-90-2.5': 1960103.564,\n",
       " 'RL-1N-DT2-2.5': 2321065.611,\n",
       " 'GEN-70-1': 935005.535,\n",
       " 'FFD-95-1': 815602.2440000001,\n",
       " 'RL-1N-DT2-1': 935014.2950000002,\n",
       " 'FFD-75-2.5': 2124798.1520000002,\n",
       " 'RL-1N-2.5': 2068773.7769999998,\n",
       " 'RR-100-2.5': 2263473.421,\n",
       " 'FFD-95-2.5': 1895498.7880000002,\n",
       " 'RL-LB-1N-1-fail': 934984.5040000002,\n",
       " 'RR-100-1': 934968.426,\n",
       " 'LLF-100-2.5': 2274544.7884615385,\n",
       " 'FFD-85-2.5': 2021209.1879999998,\n",
       " 'RL-LB-1N-1': 935007.3950000001,\n",
       " 'FFD-80-2.5': 2048829.3720000002,\n",
       " 'FFD-80-1': 855110.55,\n",
       " 'FFD-75-1': 881195.062,\n",
       " 'FFD-90-1': 827147.5290000002,\n",
       " 'LLF-100-1': 934992.51,\n",
       " 'RL-LB-1N-DT-1': 934995.526,\n",
       " 'FFD-70-1': 886199.4069999999}"
      ]
     },
     "execution_count": 53,
     "metadata": {},
     "output_type": "execute_result"
    }
   ],
   "source": [
    "{k: np.mean(v) for k, v in results_rc.items()}"
   ]
  },
  {
   "cell_type": "code",
   "execution_count": 56,
   "id": "e1387324",
   "metadata": {},
   "outputs": [
    {
     "data": {
      "text/plain": [
       "{'FFD-70-2.5': 2088210.8180000002,\n",
       " 'FFD-100-2.5': 1575899.262,\n",
       " 'RL-1N-1': 924601.6290000001,\n",
       " 'FFD-85-1': 821066.1299999999,\n",
       " 'GEN-70-2.5': 2059836.8250000002,\n",
       " 'RL-LB-1N-2.5': 2273559.195,\n",
       " 'FFD-100-1': 722693.3470000002,\n",
       " 'RL-LB-1N-2.5-fail': 2059318.386,\n",
       " 'RL-LB-1N-DT-2.5': 2299110.5349999997,\n",
       " 'LLFD-100-1': 935005.942,\n",
       " 'LLFD-100-2.5': 2320659.134,\n",
       " 'FFD-90-2.5': 1698738.7780000002,\n",
       " 'RL-1N-DT2-2.5': 2300778.22,\n",
       " 'GEN-70-1': 934978.1989999999,\n",
       " 'FFD-95-1': 753066.5739999999,\n",
       " 'RL-1N-DT2-1': 935009.2069999999,\n",
       " 'FFD-75-2.5': 2018386.375,\n",
       " 'RL-1N-2.5': 2065686.5270000002,\n",
       " 'RR-100-2.5': 2203479.553,\n",
       " 'FFD-95-2.5': 1630357.8070000005,\n",
       " 'RL-LB-1N-1-fail': 934985.7979999998,\n",
       " 'RR-100-1': 934998.3829999999,\n",
       " 'LLF-100-2.5': 2254721.258,\n",
       " 'FFD-85-2.5': 1793731.256,\n",
       " 'RL-LB-1N-1': 935050.9,\n",
       " 'FFD-80-2.5': 1895678.3969999999,\n",
       " 'FFD-80-1': 851964.0630000001,\n",
       " 'FFD-75-1': 873051.7760000002,\n",
       " 'FFD-90-1': 774784.203,\n",
       " 'LLF-100-1': 935006.215,\n",
       " 'RL-LB-1N-DT-1': 934654.2179999999,\n",
       " 'FFD-70-1': 892863.3050000002}"
      ]
     },
     "execution_count": 56,
     "metadata": {},
     "output_type": "execute_result"
    }
   ],
   "source": [
    "{k: np.mean(v) for k, v in results_cfs.items()}"
   ]
  },
  {
   "cell_type": "code",
   "execution_count": 55,
   "id": "a5136e8a",
   "metadata": {},
   "outputs": [],
   "source": [
    "with open(\"/opt/project/data/moongen-throughput-results.json\", 'r') as fh:\n",
    "    results_cfs = json.load(fh)"
   ]
  },
  {
   "cell_type": "code",
   "execution_count": 29,
   "id": "e43abe1f",
   "metadata": {},
   "outputs": [
    {
     "name": "stdout",
     "output_type": "stream",
     "text": [
      "FFD-70-2.5\n",
      "FFD-100-2.5\n",
      "RL-1N-1\n",
      "FFD-85-1\n",
      "GEN-70-2.5\n",
      "RL-LB-1N-2.5\n",
      "FFD-100-1\n",
      "RL-LB-1N-2.5-fail\n",
      "RL-LB-1N-DT-2.5\n",
      "LLFD-100-1\n",
      "LLFD-100-2.5\n",
      "FFD-90-2.5\n",
      "RL-1N-DT2-2.5\n",
      "GEN-70-1\n",
      "FFD-95-1\n",
      "RL-1N-DT2-1\n",
      "FFD-75-2.5\n",
      "RL-1N-2.5\n",
      "RR-100-2.5\n",
      "FFD-95-2.5\n",
      "RL-LB-1N-1-fail\n",
      "RR-100-1\n",
      "LLF-100-2.5\n",
      "FFD-85-2.5\n",
      "RL-LB-1N-1\n",
      "FFD-80-2.5\n",
      "FFD-80-1\n",
      "FFD-75-1\n",
      "FFD-90-1\n",
      "LLF-100-1\n",
      "RL-LB-1N-DT-1\n",
      "FFD-70-1\n"
     ]
    }
   ],
   "source": [
    "print(\"\\n\".join(list(results.keys())))"
   ]
  },
  {
   "cell_type": "code",
   "execution_count": 41,
   "id": "a7470498",
   "metadata": {},
   "outputs": [],
   "source": [
    "ttest_ind?"
   ]
  },
  {
   "cell_type": "code",
   "execution_count": 47,
   "id": "40c648a1",
   "metadata": {},
   "outputs": [
    {
     "data": {
      "text/plain": [
       "Ttest_indResult(statistic=2.369222880192226, pvalue=0.009393704605072026)"
      ]
     },
     "execution_count": 47,
     "metadata": {},
     "output_type": "execute_result"
    }
   ],
   "source": [
    "ttest_ind(results['RL-1N-DT2-2.5'], results['LLF-100-2.5'], alternative='greater')"
   ]
  },
  {
   "cell_type": "code",
   "execution_count": 46,
   "id": "11f1be94",
   "metadata": {},
   "outputs": [
    {
     "data": {
      "text/plain": [
       "array([[1485329.4, 1788730.7, 1701596.4, 1903160.5],\n",
       "       [1735856. , 1858012.8, 1719183.6, 1926691.8],\n",
       "       [1886327.2, 1873460.1, 1819763.6, 2006277.9],\n",
       "       [1922490.6, 1885437.5, 1821277.5, 2145118.6],\n",
       "       [1934356.4, 1946067.4, 1840391.7, 2151876.8],\n",
       "       [1985371.5, 1949614.2, 1844324.9, 2156746.6],\n",
       "       [1993264.2, 1954075. , 1932508.7, 2174901.8],\n",
       "       [2180411.8, 1960381.3, 2078506.3, 2268110.3],\n",
       "       [2220079.2, 1968008.7, 2198800.3, 2296315.3],\n",
       "       [2223842. , 2021812.3, 2239373.1, 2299672.7],\n",
       "       [2244501. , 2040189.4, 2298080.7, 2299890. ],\n",
       "       [2285038.8, 2047063.4, 2308036. , 2337148.1],\n",
       "       [2293419. , 2053144. , 2337575.9, 2338381.6],\n",
       "       [2323748.4, 2073022.3, 2338303.4, 2338674.1],\n",
       "       [2327479.6, 2079395.7, 2338822.6, 2339098.9],\n",
       "       [2327943.8, 2100619. , 2339003. , 2339124.2],\n",
       "       [2334316.6, 2126254.2, 2339041.5, 2339221.2],\n",
       "       [2334799.2, 2136440.2, 2339241. , 2339249.8],\n",
       "       [2336599.6, 2144856.9, 2339491.4, 2339254.8],\n",
       "       [2336669.8, 2146639.6, 2339589.3, 2339361.4],\n",
       "       [2337702.8, 2150304.8, 2339592.6, 2339443.3],\n",
       "       [2338219.8, 2172358.4, 2339662.9, 2339465.9],\n",
       "       [2338235.2, 2174009.4, 2339795.2, 2339609.9],\n",
       "       [2338310.2, 2183079.2, 2339851.7, 2339646. ],\n",
       "       [2338420.3, 2193584.4, 2339954.6, 2339672.4],\n",
       "       [2338436.3, 2197548.9, 2340000.7, 2339674.5],\n",
       "       [2339136.8, 2208445.7, 2340040.4, 2339721. ],\n",
       "       [2339227.9, 2235326.2, 2340049.2, 2339758.1],\n",
       "       [2339463.3, 2237701.1, 2340084.8, 2339938.9],\n",
       "       [2339476.7, 2241301.7, 2340146.4, 2340012.2],\n",
       "       [2339500.2, 2241669. , 2340147.8, 2340097.4],\n",
       "       [2339550. , 2257696.1, 2340298.3, 2340234.9],\n",
       "       [2339563.2, 2261874.9, 2340331. , 2340280.4],\n",
       "       [2339672.2, 2265926.3, 2340435. , 2340305.8],\n",
       "       [2339732.9, 2269064.7, 2340758.1, 2340790.4],\n",
       "       [2339793.3, 2286533.2, 2340885.5, 2340930.5],\n",
       "       [2339803.6, 2289072.2, 2341127.8, 2341006.6],\n",
       "       [2339982.6, 2298926.6, 2341239.6, 2341044.5],\n",
       "       [2340349.6, 2303992. , 2341555.7, 2341266.1],\n",
       "       [2340579.8, 2310049.3, 2341589.1, 2341287.2],\n",
       "       [2340716. , 2336970.8, 2341662.2, 2341449.7],\n",
       "       [2340741. , 2337664.7, 2341674.6, 2341474.6],\n",
       "       [2340852.3, 2338746.1, 2341793.1, 2341669.4],\n",
       "       [2341087.5, 2339154.3, 2341800.9, 2341725.6],\n",
       "       [2341327.7, 2339180.4, 2341875.1, 2341728.7],\n",
       "       [2341403.1, 2339182.9, 2341882.6, 2341882.4],\n",
       "       [2341540.1, 2339540.9, 2341911.2, 2341932.1],\n",
       "       [2341734.4, 2339700.7, 2341925.7, 2341937.6],\n",
       "       [2341803.2, 2339877.6, 2341927.3, 2341940.3],\n",
       "       [2341980.2, 2339930.5, 2341949.4, 2341952.5],\n",
       "       [2342091.4, 2340121.8, 2341952. , 2341977.2],\n",
       "       [2342116.3, 2340353.6, 2342061.6, 2341977.2],\n",
       "       [2342166.8, 2340832.5, 2342086.6, 2342108.1],\n",
       "       [2342204. , 2341103.4, 2342167.8, 2342122.2],\n",
       "       [2342224. , 2341167.6, 2342212. , 2342178.8],\n",
       "       [2342318.7, 2341192.8, 2342369. , 2342207.8],\n",
       "       [2342326.5, 2341390.2, 2342425.9, 2342270.3],\n",
       "       [2342356.8, 2341508.5, 2342494.2, 2342344.9],\n",
       "       [2342360.8, 2341701.1, 2342509.4, 2342500.9],\n",
       "       [2342394.8, 2341945. , 2342687.8, 2342561.5],\n",
       "       [2342403.9, 2341963.8, 2342787.3, 2342642.2],\n",
       "       [2342531.4, 2341974.2, 2342814.4, 2342648.6],\n",
       "       [2342545.2, 2342137.5, 2342860.2, 2342716.3],\n",
       "       [2342623.9, 2342262.1, 2342889.9, 2342794. ],\n",
       "       [2342634.8, 2342344.9, 2342922.5, 2342808.6],\n",
       "       [2342753.5, 2342365.8, 2342926.9, 2342855. ],\n",
       "       [2342755.2, 2342389. , 2342952.6, 2342903.8],\n",
       "       [2342818. , 2342414.2, 2342968.9, 2342956.9],\n",
       "       [2342826. , 2342466.9, 2342983.6, 2342986.6],\n",
       "       [2342894.3, 2342487.7, 2343013.1, 2343006.2],\n",
       "       [2342960.3, 2342864.5, 2343103.6, 2343033.1],\n",
       "       [2343063.3, 2342995.8, 2343104.8, 2343074.9],\n",
       "       [2343107.2, 2343003. , 2343130.4, 2343082.3],\n",
       "       [2343111.2, 2343023.5, 2343167.7, 2343087.8],\n",
       "       [2343147.8, 2343031.1, 2343268.4, 2343172.4],\n",
       "       [2343160.8, 2343037.4, 2343272.9, 2343202. ],\n",
       "       [2343232.8, 2343145.2, 2343298.6, 2343203.7],\n",
       "       [2343287.1, 2343323.5, 2343414.7, 2343263.3],\n",
       "       [2343403.6, 2343336.7, 2343465. , 2343277.5],\n",
       "       [2343459.8, 2343443.2, 2343473.3, 2343279.1],\n",
       "       [2343499.4, 2343487.1, 2343767.7, 2343287.1],\n",
       "       [2343501. , 2343523.4, 2343809.7, 2343409.2],\n",
       "       [2343557.8, 2343642. , 2343841.5, 2343422.7],\n",
       "       [2343563.7, 2343834.1, 2343860.3, 2343750.3],\n",
       "       [2343684.2, 2343884. , 2343863.7, 2343767.4],\n",
       "       [2343750.4, 2343916. , 2343866. , 2343770.2],\n",
       "       [2343750.8, 2343973.3, 2343874.6, 2343905.4],\n",
       "       [2343829. , 2343987.6, 2343986.2, 2343909.4],\n",
       "       [2343893.6, 2343990.2, 2343998.5, 2344010.6],\n",
       "       [2343914.1, 2344027.9, 2344045.5, 2344020.3],\n",
       "       [2344203.1, 2344035.3, 2344083.8, 2344042.2],\n",
       "       [2344445.6, 2344085.8, 2344111.5, 2344086.4],\n",
       "       [2344505.9, 2344516.6, 2344396.5, 2344146.7],\n",
       "       [2344589.7, 2344623. , 2344637.7, 2344425.4],\n",
       "       [2344876.9, 2344724.2, 2344935.9, 2344607.7],\n",
       "       [2344961.8, 2344737.5, 2345002.7, 2344745.2],\n",
       "       [2345017.6, 2344765. , 2345104.8, 2344944.3],\n",
       "       [2345320.3, 2344924.2, 2345181.4, 2344971.1],\n",
       "       [2345666.8, 2345199.8, 2345409.5, 2345076.3],\n",
       "       [2345823.8, 2345284.6, 2345631.5, 2345217. ]])"
      ]
     },
     "execution_count": 46,
     "metadata": {},
     "output_type": "execute_result"
    }
   ],
   "source": [
    "np.column_stack((\n",
    "    np.sort(results['RL-1N-DT2-2.5']), \n",
    "    np.sort(results['LLF-100-2.5']), \n",
    "    np.sort(results['RL-LB-1N-DT-2.5']), \n",
    "    np.sort(results['LLFD-100-2.5'])\n",
    "))"
   ]
  },
  {
   "cell_type": "code",
   "execution_count": 62,
   "id": "8beef282",
   "metadata": {
    "scrolled": true
   },
   "outputs": [
    {
     "name": "stderr",
     "output_type": "stream",
     "text": [
      "Unexpected error processing /opt/project/data/nas/dqn_assignments_result_rc/least-loaded-first-l100-2-dot-5-mpps/dqn_eval-p0026-i00\n",
      "Unexpected error processing /opt/project/data/nas/dqn_assignments_result_rc/least-loaded-first-l100-2-dot-5-mpps/dqn_eval-p0026-i00\n",
      "Unexpected error processing /opt/project/data/nas/dqn_assignments_result_rc/least-loaded-first-l100-2-dot-5-mpps/dqn_eval-p0026-i00\n",
      "[Errno 2] No such file or directory: '/opt/project/data/nas/dqn_assignments_result_rc/least-loaded-first-l100-2-dot-5-mpps/dqn_eval-p0026-i00/!VNF_stats.txt'\n",
      "Traceback (most recent call last):\n",
      "  File \"/opt/project/scripts/plot_results.py\", line 213, in eval_aboslute_packet_cost\n",
      "    stats = dutils.load_vnf_stats(os.path.join(exp_dir, g))\n",
      "  File \"/opt/project/dataprep/utils.py\", line 17, in load_vnf_stats\n",
      "    df = pd.read_csv(\n",
      "  File \"/opt/conda/lib/python3.8/site-packages/pandas/util/_decorators.py\", line 311, in wrapper\n",
      "    return func(*args, **kwargs)\n",
      "  File \"/opt/conda/lib/python3.8/site-packages/pandas/io/parsers/readers.py\", line 586, in read_csv\n",
      "    return _read(filepath_or_buffer, kwds)\n",
      "  File \"/opt/conda/lib/python3.8/site-packages/pandas/io/parsers/readers.py\", line 482, in _read\n",
      "    parser = TextFileReader(filepath_or_buffer, **kwds)\n",
      "  File \"/opt/conda/lib/python3.8/site-packages/pandas/io/parsers/readers.py\", line 811, in __init__\n",
      "    self._engine = self._make_engine(self.engine)\n",
      "  File \"/opt/conda/lib/python3.8/site-packages/pandas/io/parsers/readers.py\", line 1040, in _make_engine\n",
      "    return mapping[engine](self.f, **self.options)  # type: ignore[call-arg]\n",
      "  File \"/opt/conda/lib/python3.8/site-packages/pandas/io/parsers/c_parser_wrapper.py\", line 51, in __init__\n",
      "    self._open_handles(src, kwds)\n",
      "  File \"/opt/conda/lib/python3.8/site-packages/pandas/io/parsers/base_parser.py\", line 222, in _open_handles\n",
      "    self.handles = get_handle(\n",
      "  File \"/opt/conda/lib/python3.8/site-packages/pandas/io/common.py\", line 702, in get_handle\n",
      "    handle = open(\n",
      "FileNotFoundError: [Errno 2] No such file or directory: '/opt/project/data/nas/dqn_assignments_result_rc/least-loaded-first-l100-2-dot-5-mpps/dqn_eval-p0026-i00/!VNF_stats.txt'\n",
      "[Errno 2] No such file or directory: '/opt/project/data/nas/dqn_assignments_result_rc/least-loaded-first-l100-2-dot-5-mpps/dqn_eval-p0026-i00/!VNF_stats.txt'\n",
      "Traceback (most recent call last):\n",
      "  File \"/opt/project/scripts/plot_results.py\", line 213, in eval_aboslute_packet_cost\n",
      "    stats = dutils.load_vnf_stats(os.path.join(exp_dir, g))\n",
      "  File \"/opt/project/dataprep/utils.py\", line 17, in load_vnf_stats\n",
      "    df = pd.read_csv(\n",
      "  File \"/opt/conda/lib/python3.8/site-packages/pandas/util/_decorators.py\", line 311, in wrapper\n",
      "    return func(*args, **kwargs)\n",
      "  File \"/opt/conda/lib/python3.8/site-packages/pandas/io/parsers/readers.py\", line 586, in read_csv\n",
      "    return _read(filepath_or_buffer, kwds)\n",
      "  File \"/opt/conda/lib/python3.8/site-packages/pandas/io/parsers/readers.py\", line 482, in _read\n",
      "    parser = TextFileReader(filepath_or_buffer, **kwds)\n",
      "  File \"/opt/conda/lib/python3.8/site-packages/pandas/io/parsers/readers.py\", line 811, in __init__\n",
      "    self._engine = self._make_engine(self.engine)\n",
      "  File \"/opt/conda/lib/python3.8/site-packages/pandas/io/parsers/readers.py\", line 1040, in _make_engine\n",
      "    return mapping[engine](self.f, **self.options)  # type: ignore[call-arg]\n",
      "  File \"/opt/conda/lib/python3.8/site-packages/pandas/io/parsers/c_parser_wrapper.py\", line 51, in __init__\n",
      "    self._open_handles(src, kwds)\n",
      "  File \"/opt/conda/lib/python3.8/site-packages/pandas/io/parsers/base_parser.py\", line 222, in _open_handles\n",
      "    self.handles = get_handle(\n",
      "  File \"/opt/conda/lib/python3.8/site-packages/pandas/io/common.py\", line 702, in get_handle\n",
      "    handle = open(\n",
      "FileNotFoundError: [Errno 2] No such file or directory: '/opt/project/data/nas/dqn_assignments_result_rc/least-loaded-first-l100-2-dot-5-mpps/dqn_eval-p0026-i00/!VNF_stats.txt'\n",
      "[Errno 2] No such file or directory: '/opt/project/data/nas/dqn_assignments_result_rc/least-loaded-first-l100-2-dot-5-mpps/dqn_eval-p0026-i00/!VNF_stats.txt'\n",
      "Traceback (most recent call last):\n",
      "  File \"/opt/project/scripts/plot_results.py\", line 213, in eval_aboslute_packet_cost\n",
      "    stats = dutils.load_vnf_stats(os.path.join(exp_dir, g))\n",
      "  File \"/opt/project/dataprep/utils.py\", line 17, in load_vnf_stats\n",
      "    df = pd.read_csv(\n",
      "  File \"/opt/conda/lib/python3.8/site-packages/pandas/util/_decorators.py\", line 311, in wrapper\n",
      "    return func(*args, **kwargs)\n",
      "  File \"/opt/conda/lib/python3.8/site-packages/pandas/io/parsers/readers.py\", line 586, in read_csv\n",
      "    return _read(filepath_or_buffer, kwds)\n",
      "  File \"/opt/conda/lib/python3.8/site-packages/pandas/io/parsers/readers.py\", line 482, in _read\n",
      "    parser = TextFileReader(filepath_or_buffer, **kwds)\n",
      "  File \"/opt/conda/lib/python3.8/site-packages/pandas/io/parsers/readers.py\", line 811, in __init__\n",
      "    self._engine = self._make_engine(self.engine)\n",
      "  File \"/opt/conda/lib/python3.8/site-packages/pandas/io/parsers/readers.py\", line 1040, in _make_engine\n",
      "    return mapping[engine](self.f, **self.options)  # type: ignore[call-arg]\n",
      "  File \"/opt/conda/lib/python3.8/site-packages/pandas/io/parsers/c_parser_wrapper.py\", line 51, in __init__\n",
      "    self._open_handles(src, kwds)\n",
      "  File \"/opt/conda/lib/python3.8/site-packages/pandas/io/parsers/base_parser.py\", line 222, in _open_handles\n",
      "    self.handles = get_handle(\n",
      "  File \"/opt/conda/lib/python3.8/site-packages/pandas/io/common.py\", line 702, in get_handle\n",
      "    handle = open(\n",
      "FileNotFoundError: [Errno 2] No such file or directory: '/opt/project/data/nas/dqn_assignments_result_rc/least-loaded-first-l100-2-dot-5-mpps/dqn_eval-p0026-i00/!VNF_stats.txt'\n"
     ]
    }
   ],
   "source": [
    "packet_cpu_rc = evaldqn.eval_aboslute_packet_cost('rc')\n",
    "with open(\"/opt/project/data/absolute-per-packet-cost-rc.json\", \"w\") as fh:\n",
    "    json.dump(packet_cpu_rc, fh)\n",
    "total_cost_per_packet_rc = {k: np.array([v['cpus'] * 2.2e9 * 10 / v['packets'] for v in vals \\\n",
    "                         if v['packets'] > 0]) for k, vals in packet_cpu_rc.items()}"
   ]
  },
  {
   "cell_type": "code",
   "execution_count": 113,
   "id": "ae2f2b4e",
   "metadata": {},
   "outputs": [],
   "source": [
    "with open(\"/opt/project/data/absolute-per-packet-cost.json\", \"r\") as fh:\n",
    "    total_cost_per_packet_cfs = json.load(fh)"
   ]
  },
  {
   "cell_type": "code",
   "execution_count": 64,
   "id": "32c8acaf",
   "metadata": {},
   "outputs": [
    {
     "name": "stderr",
     "output_type": "stream",
     "text": [
      "No objects to concatenate\n",
      "Traceback (most recent call last):\n",
      "  File \"/opt/project/scripts/plot_results.py\", line 162, in load_algo_latency\n",
      "    dfs.append(dutils.load_moongen_latency(os.path.join(path, f)))\n",
      "  File \"/opt/project/dataprep/utils.py\", line 479, in load_moongen_latency\n",
      "    return pd.concat(dfs, axis=0)\n",
      "  File \"/opt/conda/lib/python3.8/site-packages/pandas/util/_decorators.py\", line 311, in wrapper\n",
      "    return func(*args, **kwargs)\n",
      "  File \"/opt/conda/lib/python3.8/site-packages/pandas/core/reshape/concat.py\", line 294, in concat\n",
      "    op = _Concatenator(\n",
      "  File \"/opt/conda/lib/python3.8/site-packages/pandas/core/reshape/concat.py\", line 351, in __init__\n",
      "    raise ValueError(\"No objects to concatenate\")\n",
      "ValueError: No objects to concatenate\n",
      "No objects to concatenate\n",
      "Traceback (most recent call last):\n",
      "  File \"/opt/project/scripts/plot_results.py\", line 162, in load_algo_latency\n",
      "    dfs.append(dutils.load_moongen_latency(os.path.join(path, f)))\n",
      "  File \"/opt/project/dataprep/utils.py\", line 479, in load_moongen_latency\n",
      "    return pd.concat(dfs, axis=0)\n",
      "  File \"/opt/conda/lib/python3.8/site-packages/pandas/util/_decorators.py\", line 311, in wrapper\n",
      "    return func(*args, **kwargs)\n",
      "  File \"/opt/conda/lib/python3.8/site-packages/pandas/core/reshape/concat.py\", line 294, in concat\n",
      "    op = _Concatenator(\n",
      "  File \"/opt/conda/lib/python3.8/site-packages/pandas/core/reshape/concat.py\", line 351, in __init__\n",
      "    raise ValueError(\"No objects to concatenate\")\n",
      "ValueError: No objects to concatenate\n",
      "No objects to concatenate\n",
      "Traceback (most recent call last):\n",
      "  File \"/opt/project/scripts/plot_results.py\", line 162, in load_algo_latency\n",
      "    dfs.append(dutils.load_moongen_latency(os.path.join(path, f)))\n",
      "  File \"/opt/project/dataprep/utils.py\", line 479, in load_moongen_latency\n",
      "    return pd.concat(dfs, axis=0)\n",
      "  File \"/opt/conda/lib/python3.8/site-packages/pandas/util/_decorators.py\", line 311, in wrapper\n",
      "    return func(*args, **kwargs)\n",
      "  File \"/opt/conda/lib/python3.8/site-packages/pandas/core/reshape/concat.py\", line 294, in concat\n",
      "    op = _Concatenator(\n",
      "  File \"/opt/conda/lib/python3.8/site-packages/pandas/core/reshape/concat.py\", line 351, in __init__\n",
      "    raise ValueError(\"No objects to concatenate\")\n",
      "ValueError: No objects to concatenate\n",
      "No objects to concatenate\n",
      "Traceback (most recent call last):\n",
      "  File \"/opt/project/scripts/plot_results.py\", line 162, in load_algo_latency\n",
      "    dfs.append(dutils.load_moongen_latency(os.path.join(path, f)))\n",
      "  File \"/opt/project/dataprep/utils.py\", line 479, in load_moongen_latency\n",
      "    return pd.concat(dfs, axis=0)\n",
      "  File \"/opt/conda/lib/python3.8/site-packages/pandas/util/_decorators.py\", line 311, in wrapper\n",
      "    return func(*args, **kwargs)\n",
      "  File \"/opt/conda/lib/python3.8/site-packages/pandas/core/reshape/concat.py\", line 294, in concat\n",
      "    op = _Concatenator(\n",
      "  File \"/opt/conda/lib/python3.8/site-packages/pandas/core/reshape/concat.py\", line 351, in __init__\n",
      "    raise ValueError(\"No objects to concatenate\")\n",
      "ValueError: No objects to concatenate\n"
     ]
    }
   ],
   "source": [
    "latencies_rc = evaldqn.latency_test_runs('rc')\n",
    "latencies_rc = {k: [float(v) for v in vals] for k, vals in latencies_rc.items()}\n",
    "with open(\"/opt/project/data/moongen-latencies-rc.json\", \"w\") as fh:\n",
    "    json.dump(latencies_rc, fh)\n",
    "latencies_rc = {k: np.array(v) for k, v in latencies_rc.items()}"
   ]
  },
  {
   "cell_type": "code",
   "execution_count": 787,
   "id": "242f2308",
   "metadata": {},
   "outputs": [],
   "source": [
    "with open(\"/opt/project/data/moongen-latencies-rc.json\", \"r\") as fh:\n",
    "    latencies_rc = json.load(fh)\n",
    "latencies_rc = {k: np.array(v) for k, v in latencies_rc.items()}"
   ]
  },
  {
   "cell_type": "code",
   "execution_count": 111,
   "id": "11b4386c",
   "metadata": {},
   "outputs": [],
   "source": [
    "with open(\"/opt/project/data/moongen-latencies.json\", \"r\") as fh:\n",
    "    latencies_cfs = json.load(fh)"
   ]
  },
  {
   "cell_type": "code",
   "execution_count": null,
   "id": "5c7dd2ef",
   "metadata": {},
   "outputs": [],
   "source": [
    "all_graphs = evaldqn.load_graphs_for_test_runs()\n",
    "for k, graphs in all_graphs.items():\n",
    "    base_dir = os.path.join('/opt/project/data/graphs-golden-samples', k)\n",
    "    if os.path.exists(base_dir):\n",
    "        continue\n",
    "    else:\n",
    "        os.mkdir(base_dir)\n",
    "        for i, g in enumerate(graphs):\n",
    "            dutils.save_graph(g, os.path.join(base_dir, f'graph_{i}.json'), g.graph['exp_dir'])"
   ]
  },
  {
   "cell_type": "code",
   "execution_count": null,
   "id": "fbda0108",
   "metadata": {},
   "outputs": [],
   "source": [
    "flat_graphs = []\n",
    "for gs in all_graphs.values():\n",
    "    flat_graphs.extend(gs)\n",
    "features = dutils._analyze_graphs(flat_graphs)"
   ]
  },
  {
   "cell_type": "code",
   "execution_count": 330,
   "id": "413c2709",
   "metadata": {},
   "outputs": [],
   "source": [
    "all_graphs = {}\n",
    "d = '/opt/project/data/nas/graphs-golden-samples'\n",
    "for x in os.listdir(d):\n",
    "    bd = os.path.join(d, x)\n",
    "    if os.path.isdir(bd):\n",
    "        all_graphs[x] = []\n",
    "        for gf in os.listdir(bd):\n",
    "            if not gf.endswith('json'):\n",
    "                continue\n",
    "            all_graphs[x].append(dutils.load_graph(os.path.join(bd, gf)))"
   ]
  },
  {
   "cell_type": "code",
   "execution_count": 767,
   "id": "82235766",
   "metadata": {},
   "outputs": [],
   "source": [
    "num_nodes = []\n",
    "num_edges = []\n",
    "degrees = np.array([])\n",
    "for k, graphs in all_graphs.items():\n",
    "    if k.find('-DT') > 0: continue\n",
    "    num_nodes.extend([g.number_of_nodes() for g in graphs])\n",
    "    num_edges.extend([g.number_of_edges() for g in graphs])\n",
    "    ds = [np.array(list(dict(g.degree()).values())) for g in graphs]\n",
    "    ds.insert(0, degrees)\n",
    "    degrees = np.concatenate(ds)"
   ]
  },
  {
   "cell_type": "code",
   "execution_count": 768,
   "id": "f0a2172b",
   "metadata": {},
   "outputs": [
    {
     "name": "stdout",
     "output_type": "stream",
     "text": [
      "nodes 38 53.0974434975917 68\n",
      "edges 49 102.96961837717673 160\n",
      "degree 1.0 3.8785151071104598 16.0\n"
     ]
    }
   ],
   "source": [
    "for k, v in [('nodes', num_nodes), ('edges', num_edges), ('degree', degrees)]:\n",
    "    print(k, np.min(v), np.mean(v), np.max(v))"
   ]
  },
  {
   "cell_type": "code",
   "execution_count": 165,
   "id": "428e9764",
   "metadata": {},
   "outputs": [],
   "source": [
    "def print_averages(stats, throughput, factor=1.):\n",
    "    lbls_stats = [f'{s}-{throughput}' for s in ['RR-100', 'LLF-100', 'RL-LB-1N', 'RL-LB-1N-DT', 'FFD-100',\n",
    "                                                'RL-1N', 'RL-1N-DT2']]\n",
    "    for l in lbls_stats:\n",
    "        print(f\"{l:>15s}\", end='\\t')\n",
    "    print()\n",
    "    for l in lbls_stats:\n",
    "        print(f\"{np.mean(stats[l]) * factor:15.3f}\", end='\\t')\n",
    "    print()"
   ]
  },
  {
   "cell_type": "code",
   "execution_count": 163,
   "id": "81ae00b8",
   "metadata": {},
   "outputs": [
    {
     "name": "stdout",
     "output_type": "stream",
     "text": [
      "     RR-100-2.5\t    LLF-100-2.5\t   RL-LB-1N-2.5\tRL-LB-1N-DT-2.5\t    FFD-100-2.5\t      RL-1N-2.5\t  RL-1N-DT2-2.5\t\n",
      "          93.91\t          96.10\t          96.90\t          97.99\t          67.16\t          88.04\t          98.06\t\n",
      "     RR-100-2.5\t    LLF-100-2.5\t   RL-LB-1N-2.5\tRL-LB-1N-DT-2.5\t    FFD-100-2.5\t      RL-1N-2.5\t  RL-1N-DT2-2.5\t\n",
      "          96.47\t          96.94\t          98.59\t          98.78\t          77.50\t          88.17\t          98.92\t\n",
      "       RR-100-1\t      LLF-100-1\t     RL-LB-1N-1\t  RL-LB-1N-DT-1\t      FFD-100-1\t        RL-1N-1\t    RL-1N-DT2-1\t\n",
      "          99.70\t          99.70\t          99.71\t          99.66\t          77.06\t          98.59\t          99.70\t\n",
      "       RR-100-1\t      LLF-100-1\t     RL-LB-1N-1\t  RL-LB-1N-DT-1\t      FFD-100-1\t        RL-1N-1\t    RL-1N-DT2-1\t\n",
      "          99.70\t          99.70\t          99.70\t          99.70\t          83.56\t          98.17\t          99.70\t\n"
     ]
    }
   ],
   "source": [
    "print_averages(results_cfs, '2.5', 1. / 2346314.4 * 100)\n",
    "print_averages(results_rc, '2.5', 1. / 2346314.4 * 100)\n",
    "print_averages(results_cfs, '1', 1 / 937800.1 * 100)\n",
    "print_averages(results_rc, '1', 1 / 937800.1 * 100)"
   ]
  },
  {
   "cell_type": "code",
   "execution_count": 166,
   "id": "9028782b",
   "metadata": {},
   "outputs": [
    {
     "name": "stdout",
     "output_type": "stream",
     "text": [
      "     RR-100-2.5\t    LLF-100-2.5\t   RL-LB-1N-2.5\tRL-LB-1N-DT-2.5\t    FFD-100-2.5\t      RL-1N-2.5\t  RL-1N-DT2-2.5\t\n",
      "        208.423\t        204.164\t        174.545\t        186.144\t        129.154\t        134.398\t        158.716\t\n",
      "     RR-100-2.5\t    LLF-100-2.5\t   RL-LB-1N-2.5\tRL-LB-1N-DT-2.5\t    FFD-100-2.5\t      RL-1N-2.5\t  RL-1N-DT2-2.5\t\n",
      "       2035.190\t       2005.589\t       1713.730\t       1837.506\t       1112.980\t       1330.689\t       1572.241\t\n",
      "       RR-100-1\t      LLF-100-1\t     RL-LB-1N-1\t  RL-LB-1N-DT-1\t      FFD-100-1\t        RL-1N-1\t    RL-1N-DT2-1\t\n",
      "        498.198\t        498.220\t        329.624\t        467.068\t        130.587\t        163.519\t        179.162\t\n",
      "       RR-100-1\t      LLF-100-1\t     RL-LB-1N-1\t  RL-LB-1N-DT-1\t      FFD-100-1\t        RL-1N-1\t    RL-1N-DT2-1\t\n",
      "       4982.121\t       4982.143\t       3296.238\t       4668.987\t       1203.838\t       1636.041\t       1791.636\t\n"
     ]
    }
   ],
   "source": [
    "tmp_cfs = {kk: [v['cpus'] * 2.2e9 / v['packets'] for v in vv if v['packets'] > 0] for kk, vv in total_cost_per_packet_cfs.items()}\n",
    "tmp_rc = total_cost_per_packet_rc\n",
    "print_averages(tmp_cfs, '2.5', 1)\n",
    "print_averages(tmp_rc, '2.5', 1)\n",
    "print_averages(tmp_cfs, '1', 1)\n",
    "print_averages(tmp_rc, '1', 1)"
   ]
  },
  {
   "cell_type": "code",
   "execution_count": 626,
   "id": "048dd861",
   "metadata": {},
   "outputs": [
    {
     "name": "stdout",
     "output_type": "stream",
     "text": [
      "     RR-100-2.5\t    LLF-100-2.5\t   RL-LB-1N-2.5\tRL-LB-1N-DT-2.5\t    FFD-100-2.5\t      RL-1N-2.5\t  RL-1N-DT2-2.5\t\n",
      "        937.751\t        408.628\t        380.406\t         42.678\t       3997.398\t       1272.528\t        144.279\t\n",
      "     RR-100-2.5\t    LLF-100-2.5\t   RL-LB-1N-2.5\tRL-LB-1N-DT-2.5\t    FFD-100-2.5\t      RL-1N-2.5\t  RL-1N-DT2-2.5\t\n",
      "        366.942\t        293.789\t        126.333\t         68.752\t       2421.260\t        875.457\t         10.617\t\n",
      "       RR-100-1\t      LLF-100-1\t     RL-LB-1N-1\t  RL-LB-1N-DT-1\t      FFD-100-1\t        RL-1N-1\t    RL-1N-DT2-1\t\n",
      "          0.056\t          0.143\t          0.080\t          0.069\t       1701.909\t        140.158\t          0.194\t\n",
      "       RR-100-1\t      LLF-100-1\t     RL-LB-1N-1\t  RL-LB-1N-DT-1\t      FFD-100-1\t        RL-1N-1\t    RL-1N-DT2-1\t\n",
      "          0.074\t          0.074\t          0.090\t          0.079\t       1677.828\t         90.247\t          0.361\t\n"
     ]
    }
   ],
   "source": [
    "print_averages(latencies_cfs, '2.5', 1e3)\n",
    "print_averages(latencies_rc, '2.5', 1e3)\n",
    "print_averages(latencies_cfs, '1', 1e3)\n",
    "print_averages(latencies_rc, '1', 1e3)"
   ]
  },
  {
   "cell_type": "code",
   "execution_count": null,
   "id": "e8caef31",
   "metadata": {},
   "outputs": [],
   "source": []
  },
  {
   "cell_type": "markdown",
   "id": "b0e7eceb",
   "metadata": {},
   "source": [
    "# Basic Visualizations"
   ]
  },
  {
   "cell_type": "code",
   "execution_count": 57,
   "id": "44f5e209",
   "metadata": {},
   "outputs": [],
   "source": [
    "format = 'pdf'"
   ]
  },
  {
   "cell_type": "code",
   "execution_count": null,
   "id": "3b32ec3a",
   "metadata": {},
   "outputs": [],
   "source": [
    "evaldqn.plot_divider_throughput(all_graphs)"
   ]
  },
  {
   "cell_type": "code",
   "execution_count": null,
   "id": "86ec8416",
   "metadata": {},
   "outputs": [],
   "source": [
    "evaldqn.plot_total_packet_cost_paper(total_cost_per_packet, '2.5')\n",
    "plt.savefig(f'Graphs/total-cost-pp-2.5mpps.{format}')\n",
    "plt.show()\n",
    "plt.close('all')"
   ]
  },
  {
   "cell_type": "code",
   "execution_count": null,
   "id": "1e834ead",
   "metadata": {},
   "outputs": [],
   "source": [
    "evaldqn.plot_total_packet_cost_paper(total_cost_per_packet, '1')\n",
    "plt.savefig(f'Graphs/total-cost-pp-1mpps.{format}')\n",
    "plt.show()\n",
    "plt.close('all')"
   ]
  },
  {
   "cell_type": "code",
   "execution_count": 58,
   "id": "a4402a7c",
   "metadata": {},
   "outputs": [
    {
     "data": {
      "image/png": "[encoded data removed]",
      "text/plain": [
       "<Figure size 432x576 with 1 Axes>"
      ]
     },
     "metadata": {
      "needs_background": "light"
     },
     "output_type": "display_data"
    }
   ],
   "source": [
    "evaldqn.plot_throughput(results)\n",
    "plt.show()"
   ]
  },
  {
   "cell_type": "code",
   "execution_count": 681,
   "id": "b2d09050",
   "metadata": {},
   "outputs": [
    {
     "data": {
      "text/plain": [
       "<module 'evaluation.plotutils' from '/opt/project/evaluation/plotutils.py'>"
      ]
     },
     "execution_count": 681,
     "metadata": {},
     "output_type": "execute_result"
    }
   ],
   "source": [
    "reload(evaldqn)\n",
    "reload(plutils)"
   ]
  },
  {
   "cell_type": "code",
   "execution_count": 354,
   "id": "8ce2d615",
   "metadata": {},
   "outputs": [
    {
     "data": {
      "text/plain": [
       "(-0.061730919999999925, -71525.5)"
      ]
     },
     "execution_count": 354,
     "metadata": {},
     "output_type": "execute_result"
    }
   ],
   "source": [
    "(2345672.7 - 2.5e6) / 2.5e6, 928474.5 - 1e6"
   ]
  },
  {
   "cell_type": "code",
   "execution_count": 673,
   "id": "220e493f",
   "metadata": {},
   "outputs": [],
   "source": [
    "os.mkdir('/opt/project/Graphs/tnsm')"
   ]
  },
  {
   "cell_type": "code",
   "execution_count": 727,
   "id": "dcea9219",
   "metadata": {},
   "outputs": [
    {
     "name": "stdout",
     "output_type": "stream",
     "text": [
      "2345672.7\n",
      "2345262.7\n",
      "2346314.4\n",
      "2345594.5\n",
      "2343739.5\n",
      "2345654.4\n",
      "2345890.4\n"
     ]
    },
    {
     "data": {
      "image/png": "[encoded data removed]",
      "text/plain": [
       "<Figure size 161.46x99.7823 with 1 Axes>"
      ]
     },
     "metadata": {
      "needs_background": "light"
     },
     "output_type": "display_data"
    }
   ],
   "source": [
    "evaldqn.plot_throughput_paper(results_rc, '2.5', False, 0.65)\n",
    "plt.subplots_adjust(left=0.175, top=0.98, right=0.99, bottom=0.275)\n",
    "plt.savefig(f'/opt/project/Graphs/tnsm/throughput-2.5mpps.{format}')\n",
    "plt.show()\n",
    "plt.close('all')"
   ]
  },
  {
   "cell_type": "code",
   "execution_count": 728,
   "id": "4341893c",
   "metadata": {},
   "outputs": [
    {
     "name": "stdout",
     "output_type": "stream",
     "text": [
      "937664.3\n",
      "937694.7\n",
      "937717.4\n",
      "937726.3\n",
      "928474.5\n",
      "937800.1\n",
      "937839.5\n"
     ]
    },
    {
     "data": {
      "image/png": "[encoded data removed]",
      "text/plain": [
       "<Figure size 161.46x99.7823 with 1 Axes>"
      ]
     },
     "metadata": {
      "needs_background": "light"
     },
     "output_type": "display_data"
    }
   ],
   "source": [
    "evaldqn.plot_throughput_paper(results_rc, '1', False, 0.65)\n",
    "plt.subplots_adjust(left=0.175, top=0.98, right=0.99, bottom=0.275)\n",
    "plt.savefig(f'/opt/project/Graphs/tnsm/throughput-1mpps.{format}')\n",
    "plt.show()\n",
    "plt.close('all')"
   ]
  },
  {
   "cell_type": "code",
   "execution_count": 729,
   "id": "44408a0d",
   "metadata": {
    "collapsed": true
   },
   "outputs": [
    {
     "ename": "ValueError",
     "evalue": "zero-size array to reduction operation minimum which has no identity",
     "output_type": "error",
     "traceback": [
      "\u001b[0;31m---------------------------------------------------------------------------\u001b[0m",
      "\u001b[0;31mValueError\u001b[0m                                Traceback (most recent call last)",
      "\u001b[0;32m/tmp/ipykernel_60/2001967882.py\u001b[0m in \u001b[0;36m<module>\u001b[0;34m\u001b[0m\n\u001b[0;32m----> 1\u001b[0;31m \u001b[0mevaldqn\u001b[0m\u001b[0;34m.\u001b[0m\u001b[0mplot_num_used_cores\u001b[0m\u001b[0;34m(\u001b[0m\u001b[0mall_graphs\u001b[0m\u001b[0;34m)\u001b[0m\u001b[0;34m\u001b[0m\u001b[0;34m\u001b[0m\u001b[0m\n\u001b[0m\u001b[1;32m      2\u001b[0m \u001b[0mevaldqn\u001b[0m\u001b[0;34m.\u001b[0m\u001b[0mplot_num_used_cores_paper\u001b[0m\u001b[0;34m(\u001b[0m\u001b[0mall_graphs\u001b[0m\u001b[0;34m,\u001b[0m \u001b[0;34m'2.5'\u001b[0m\u001b[0;34m)\u001b[0m\u001b[0;34m\u001b[0m\u001b[0;34m\u001b[0m\u001b[0m\n\u001b[1;32m      3\u001b[0m \u001b[0mplt\u001b[0m\u001b[0;34m.\u001b[0m\u001b[0msavefig\u001b[0m\u001b[0;34m(\u001b[0m\u001b[0;34mf'Graphs/used-cores-2.5mpps.{format}'\u001b[0m\u001b[0;34m)\u001b[0m\u001b[0;34m\u001b[0m\u001b[0;34m\u001b[0m\u001b[0m\n\u001b[1;32m      4\u001b[0m \u001b[0mplt\u001b[0m\u001b[0;34m.\u001b[0m\u001b[0mshow\u001b[0m\u001b[0;34m(\u001b[0m\u001b[0;34m)\u001b[0m\u001b[0;34m\u001b[0m\u001b[0;34m\u001b[0m\u001b[0m\n\u001b[1;32m      5\u001b[0m \u001b[0mplt\u001b[0m\u001b[0;34m.\u001b[0m\u001b[0mclose\u001b[0m\u001b[0;34m(\u001b[0m\u001b[0;34m'all'\u001b[0m\u001b[0;34m)\u001b[0m\u001b[0;34m\u001b[0m\u001b[0;34m\u001b[0m\u001b[0m\n",
      "\u001b[0;32m/opt/project/scripts/plot_results.py\u001b[0m in \u001b[0;36mplot_num_used_cores\u001b[0;34m(all_graphs)\u001b[0m\n\u001b[1;32m    520\u001b[0m     \u001b[0mlabels\u001b[0m\u001b[0;34m,\u001b[0m \u001b[0mvalues\u001b[0m \u001b[0;34m=\u001b[0m \u001b[0mzip\u001b[0m\u001b[0;34m(\u001b[0m\u001b[0;34m*\u001b[0m\u001b[0;34m[\u001b[0m\u001b[0;34m(\u001b[0m\u001b[0mk\u001b[0m\u001b[0;34m,\u001b[0m \u001b[0mv\u001b[0m\u001b[0;34m)\u001b[0m \u001b[0;32mfor\u001b[0m \u001b[0mk\u001b[0m\u001b[0;34m,\u001b[0m \u001b[0mv\u001b[0m \u001b[0;32min\u001b[0m \u001b[0mused_cores\u001b[0m\u001b[0;34m.\u001b[0m\u001b[0mitems\u001b[0m\u001b[0;34m(\u001b[0m\u001b[0;34m)\u001b[0m\u001b[0;34m]\u001b[0m\u001b[0;34m)\u001b[0m\u001b[0;34m\u001b[0m\u001b[0;34m\u001b[0m\u001b[0m\n\u001b[1;32m    521\u001b[0m     \u001b[0max\u001b[0m \u001b[0;34m=\u001b[0m \u001b[0mplt\u001b[0m\u001b[0;34m.\u001b[0m\u001b[0msubplot\u001b[0m\u001b[0;34m(\u001b[0m\u001b[0;34m)\u001b[0m\u001b[0;34m\u001b[0m\u001b[0;34m\u001b[0m\u001b[0m\n\u001b[0;32m--> 522\u001b[0;31m     ax.violinplot(\n\u001b[0m\u001b[1;32m    523\u001b[0m         \u001b[0mpositions\u001b[0m\u001b[0;34m=\u001b[0m\u001b[0mnp\u001b[0m\u001b[0;34m.\u001b[0m\u001b[0marange\u001b[0m\u001b[0;34m(\u001b[0m\u001b[0mlen\u001b[0m\u001b[0;34m(\u001b[0m\u001b[0mvalues\u001b[0m\u001b[0;34m)\u001b[0m\u001b[0;34m)\u001b[0m\u001b[0;34m,\u001b[0m\u001b[0;34m\u001b[0m\u001b[0;34m\u001b[0m\u001b[0m\n\u001b[1;32m    524\u001b[0m         \u001b[0mdataset\u001b[0m\u001b[0;34m=\u001b[0m\u001b[0mvalues\u001b[0m\u001b[0;34m,\u001b[0m\u001b[0;34m\u001b[0m\u001b[0;34m\u001b[0m\u001b[0m\n",
      "\u001b[0;32m/opt/conda/lib/python3.8/site-packages/matplotlib/__init__.py\u001b[0m in \u001b[0;36minner\u001b[0;34m(ax, data, *args, **kwargs)\u001b[0m\n\u001b[1;32m   1410\u001b[0m     \u001b[0;32mdef\u001b[0m \u001b[0minner\u001b[0m\u001b[0;34m(\u001b[0m\u001b[0max\u001b[0m\u001b[0;34m,\u001b[0m \u001b[0;34m*\u001b[0m\u001b[0margs\u001b[0m\u001b[0;34m,\u001b[0m \u001b[0mdata\u001b[0m\u001b[0;34m=\u001b[0m\u001b[0;32mNone\u001b[0m\u001b[0;34m,\u001b[0m \u001b[0;34m**\u001b[0m\u001b[0mkwargs\u001b[0m\u001b[0;34m)\u001b[0m\u001b[0;34m:\u001b[0m\u001b[0;34m\u001b[0m\u001b[0;34m\u001b[0m\u001b[0m\n\u001b[1;32m   1411\u001b[0m         \u001b[0;32mif\u001b[0m \u001b[0mdata\u001b[0m \u001b[0;32mis\u001b[0m \u001b[0;32mNone\u001b[0m\u001b[0;34m:\u001b[0m\u001b[0;34m\u001b[0m\u001b[0;34m\u001b[0m\u001b[0m\n\u001b[0;32m-> 1412\u001b[0;31m             \u001b[0;32mreturn\u001b[0m \u001b[0mfunc\u001b[0m\u001b[0;34m(\u001b[0m\u001b[0max\u001b[0m\u001b[0;34m,\u001b[0m \u001b[0;34m*\u001b[0m\u001b[0mmap\u001b[0m\u001b[0;34m(\u001b[0m\u001b[0msanitize_sequence\u001b[0m\u001b[0;34m,\u001b[0m \u001b[0margs\u001b[0m\u001b[0;34m)\u001b[0m\u001b[0;34m,\u001b[0m \u001b[0;34m**\u001b[0m\u001b[0mkwargs\u001b[0m\u001b[0;34m)\u001b[0m\u001b[0;34m\u001b[0m\u001b[0;34m\u001b[0m\u001b[0m\n\u001b[0m\u001b[1;32m   1413\u001b[0m \u001b[0;34m\u001b[0m\u001b[0m\n\u001b[1;32m   1414\u001b[0m         \u001b[0mbound\u001b[0m \u001b[0;34m=\u001b[0m \u001b[0mnew_sig\u001b[0m\u001b[0;34m.\u001b[0m\u001b[0mbind\u001b[0m\u001b[0;34m(\u001b[0m\u001b[0max\u001b[0m\u001b[0;34m,\u001b[0m \u001b[0;34m*\u001b[0m\u001b[0margs\u001b[0m\u001b[0;34m,\u001b[0m \u001b[0;34m**\u001b[0m\u001b[0mkwargs\u001b[0m\u001b[0;34m)\u001b[0m\u001b[0;34m\u001b[0m\u001b[0;34m\u001b[0m\u001b[0m\n",
      "\u001b[0;32m/opt/conda/lib/python3.8/site-packages/matplotlib/axes/_axes.py\u001b[0m in \u001b[0;36mviolinplot\u001b[0;34m(self, dataset, positions, vert, widths, showmeans, showextrema, showmedians, quantiles, points, bw_method)\u001b[0m\n\u001b[1;32m   7894\u001b[0m             \u001b[0;32mreturn\u001b[0m \u001b[0mkde\u001b[0m\u001b[0;34m.\u001b[0m\u001b[0mevaluate\u001b[0m\u001b[0;34m(\u001b[0m\u001b[0mcoords\u001b[0m\u001b[0;34m)\u001b[0m\u001b[0;34m\u001b[0m\u001b[0;34m\u001b[0m\u001b[0m\n\u001b[1;32m   7895\u001b[0m \u001b[0;34m\u001b[0m\u001b[0m\n\u001b[0;32m-> 7896\u001b[0;31m         vpstats = cbook.violin_stats(dataset, _kde_method, points=points,\n\u001b[0m\u001b[1;32m   7897\u001b[0m                                      quantiles=quantiles)\n\u001b[1;32m   7898\u001b[0m         return self.violin(vpstats, positions=positions, vert=vert,\n",
      "\u001b[0;32m/opt/conda/lib/python3.8/site-packages/matplotlib/cbook/__init__.py\u001b[0m in \u001b[0;36mviolin_stats\u001b[0;34m(X, method, points, quantiles)\u001b[0m\n\u001b[1;32m   1483\u001b[0m \u001b[0;34m\u001b[0m\u001b[0m\n\u001b[1;32m   1484\u001b[0m         \u001b[0;31m# Calculate basic stats for the distribution\u001b[0m\u001b[0;34m\u001b[0m\u001b[0;34m\u001b[0m\u001b[0;34m\u001b[0m\u001b[0m\n\u001b[0;32m-> 1485\u001b[0;31m         \u001b[0mmin_val\u001b[0m \u001b[0;34m=\u001b[0m \u001b[0mnp\u001b[0m\u001b[0;34m.\u001b[0m\u001b[0mmin\u001b[0m\u001b[0;34m(\u001b[0m\u001b[0mx\u001b[0m\u001b[0;34m)\u001b[0m\u001b[0;34m\u001b[0m\u001b[0;34m\u001b[0m\u001b[0m\n\u001b[0m\u001b[1;32m   1486\u001b[0m         \u001b[0mmax_val\u001b[0m \u001b[0;34m=\u001b[0m \u001b[0mnp\u001b[0m\u001b[0;34m.\u001b[0m\u001b[0mmax\u001b[0m\u001b[0;34m(\u001b[0m\u001b[0mx\u001b[0m\u001b[0;34m)\u001b[0m\u001b[0;34m\u001b[0m\u001b[0;34m\u001b[0m\u001b[0m\n\u001b[1;32m   1487\u001b[0m         \u001b[0mquantile_val\u001b[0m \u001b[0;34m=\u001b[0m \u001b[0mnp\u001b[0m\u001b[0;34m.\u001b[0m\u001b[0mpercentile\u001b[0m\u001b[0;34m(\u001b[0m\u001b[0mx\u001b[0m\u001b[0;34m,\u001b[0m \u001b[0;36m100\u001b[0m \u001b[0;34m*\u001b[0m \u001b[0mq\u001b[0m\u001b[0;34m)\u001b[0m\u001b[0;34m\u001b[0m\u001b[0;34m\u001b[0m\u001b[0m\n",
      "\u001b[0;32m<__array_function__ internals>\u001b[0m in \u001b[0;36mamin\u001b[0;34m(*args, **kwargs)\u001b[0m\n",
      "\u001b[0;32m/opt/conda/lib/python3.8/site-packages/numpy/core/fromnumeric.py\u001b[0m in \u001b[0;36mamin\u001b[0;34m(a, axis, out, keepdims, initial, where)\u001b[0m\n\u001b[1;32m   2828\u001b[0m     \u001b[0;36m6\u001b[0m\u001b[0;34m\u001b[0m\u001b[0;34m\u001b[0m\u001b[0m\n\u001b[1;32m   2829\u001b[0m     \"\"\"\n\u001b[0;32m-> 2830\u001b[0;31m     return _wrapreduction(a, np.minimum, 'min', axis, None, out,\n\u001b[0m\u001b[1;32m   2831\u001b[0m                           keepdims=keepdims, initial=initial, where=where)\n\u001b[1;32m   2832\u001b[0m \u001b[0;34m\u001b[0m\u001b[0m\n",
      "\u001b[0;32m/opt/conda/lib/python3.8/site-packages/numpy/core/fromnumeric.py\u001b[0m in \u001b[0;36m_wrapreduction\u001b[0;34m(obj, ufunc, method, axis, dtype, out, **kwargs)\u001b[0m\n\u001b[1;32m     85\u001b[0m                 \u001b[0;32mreturn\u001b[0m \u001b[0mreduction\u001b[0m\u001b[0;34m(\u001b[0m\u001b[0maxis\u001b[0m\u001b[0;34m=\u001b[0m\u001b[0maxis\u001b[0m\u001b[0;34m,\u001b[0m \u001b[0mout\u001b[0m\u001b[0;34m=\u001b[0m\u001b[0mout\u001b[0m\u001b[0;34m,\u001b[0m \u001b[0;34m**\u001b[0m\u001b[0mpasskwargs\u001b[0m\u001b[0;34m)\u001b[0m\u001b[0;34m\u001b[0m\u001b[0;34m\u001b[0m\u001b[0m\n\u001b[1;32m     86\u001b[0m \u001b[0;34m\u001b[0m\u001b[0m\n\u001b[0;32m---> 87\u001b[0;31m     \u001b[0;32mreturn\u001b[0m \u001b[0mufunc\u001b[0m\u001b[0;34m.\u001b[0m\u001b[0mreduce\u001b[0m\u001b[0;34m(\u001b[0m\u001b[0mobj\u001b[0m\u001b[0;34m,\u001b[0m \u001b[0maxis\u001b[0m\u001b[0;34m,\u001b[0m \u001b[0mdtype\u001b[0m\u001b[0;34m,\u001b[0m \u001b[0mout\u001b[0m\u001b[0;34m,\u001b[0m \u001b[0;34m**\u001b[0m\u001b[0mpasskwargs\u001b[0m\u001b[0;34m)\u001b[0m\u001b[0;34m\u001b[0m\u001b[0;34m\u001b[0m\u001b[0m\n\u001b[0m\u001b[1;32m     88\u001b[0m \u001b[0;34m\u001b[0m\u001b[0m\n\u001b[1;32m     89\u001b[0m \u001b[0;34m\u001b[0m\u001b[0m\n",
      "\u001b[0;31mValueError\u001b[0m: zero-size array to reduction operation minimum which has no identity"
     ]
    },
    {
     "data": {
      "image/png": "[encoded data removed]",
      "text/plain": [
       "<Figure size 432x288 with 1 Axes>"
      ]
     },
     "metadata": {
      "needs_background": "light"
     },
     "output_type": "display_data"
    }
   ],
   "source": [
    "evaldqn.plot_num_used_cores(all_graphs)\n",
    "evaldqn.plot_num_used_cores_paper(all_graphs, '2.5')\n",
    "plt.savefig(f'Graphs/used-cores-2.5mpps.{format}')\n",
    "plt.show()\n",
    "plt.close('all')"
   ]
  },
  {
   "cell_type": "code",
   "execution_count": null,
   "id": "ec725906",
   "metadata": {},
   "outputs": [],
   "source": [
    "evaldqn.plot_num_used_cores_paper(all_graphs, '1')\n",
    "plt.savefig(f'Graphs/used-cores-1mpps.{format}')\n",
    "plt.show()\n",
    "plt.close('all')"
   ]
  },
  {
   "cell_type": "code",
   "execution_count": 788,
   "id": "fe3ef46d",
   "metadata": {},
   "outputs": [
    {
     "name": "stdout",
     "output_type": "stream",
     "text": [
      "1.8016475402002583\n",
      "2.4530849543667435\n",
      "1.062510020978745\n",
      "0.818272286997011\n",
      "8.362051190112542\n",
      "4.565738292552878\n",
      "0.8086342750565135\n"
     ]
    },
    {
     "data": {
      "image/png": "[encoded data removed]",
      "text/plain": [
       "<Figure size 161.46x99.7823 with 1 Axes>"
      ]
     },
     "metadata": {
      "needs_background": "light"
     },
     "output_type": "display_data"
    }
   ],
   "source": [
    "evaldqn.plot_latency_paper(latencies_rc, '2.5', False, 0.65)\n",
    "plt.subplots_adjust(left=0.175, top=0.98, right=0.99, bottom=0.275)\n",
    "plt.savefig(f'/opt/project/Graphs/tnsm/latencies-2.5mpps.{format}')\n",
    "plt.show()\n",
    "plt.close('all')"
   ]
  },
  {
   "cell_type": "code",
   "execution_count": 731,
   "id": "ee763630",
   "metadata": {},
   "outputs": [
    {
     "name": "stdout",
     "output_type": "stream",
     "text": [
      "7.382694240381551e-05\n",
      "7.393521642687359e-05\n",
      "8.997758555594417e-05\n",
      "7.873416078835531e-05\n",
      "1.6778277243295288\n",
      "0.09024721724737207\n",
      "0.0003611051033766704\n"
     ]
    },
    {
     "data": {
      "image/png": "[encoded data removed]",
      "text/plain": [
       "<Figure size 161.46x99.7823 with 1 Axes>"
      ]
     },
     "metadata": {
      "needs_background": "light"
     },
     "output_type": "display_data"
    }
   ],
   "source": [
    "evaldqn.plot_latency_paper(latencies_rc, '1', False, 0.65)\n",
    "plt.subplots_adjust(left=0.175, top=0.98, right=0.99, bottom=0.275)\n",
    "plt.savefig(f'/opt/project/Graphs/tnsm/latencies-1mpps.{format}')\n",
    "plt.show()\n",
    "plt.close('all')"
   ]
  },
  {
   "cell_type": "code",
   "execution_count": 732,
   "id": "61856695",
   "metadata": {},
   "outputs": [
    {
     "name": "stdout",
     "output_type": "stream",
     "text": [
      "4230.331960879043\n",
      "3209.577558992821\n",
      "3065.6400702739033\n",
      "4229.655895863949\n",
      "2131.0389405714263\n",
      "2169.922451738829\n",
      "2892.564564177626\n"
     ]
    },
    {
     "data": {
      "image/png": "[encoded data removed]",
      "text/plain": [
       "<Figure size 161.46x99.7823 with 1 Axes>"
      ]
     },
     "metadata": {
      "needs_background": "light"
     },
     "output_type": "display_data"
    }
   ],
   "source": [
    "evaldqn.plot_total_packet_cost_paper(total_cost_per_packet_rc, '2.5', False, 0.65)\n",
    "plt.subplots_adjust(left=0.175, top=0.98, right=0.99, bottom=0.275)\n",
    "plt.savefig(f'/opt/project/Graphs/tnsm/total-cost-pp-2.5mpps.{format}')\n",
    "plt.show()\n",
    "plt.close('all')"
   ]
  },
  {
   "cell_type": "code",
   "execution_count": 733,
   "id": "29ef3c68",
   "metadata": {},
   "outputs": [
    {
     "name": "stdout",
     "output_type": "stream",
     "text": [
      "10637.172687850354\n",
      "10635.726371766981\n",
      "5309.367171700108\n",
      "8641.736566027703\n",
      "2040.4483644136901\n",
      "2759.639519399818\n",
      "3154.061947927154\n"
     ]
    },
    {
     "data": {
      "image/png": "[encoded data removed]",
      "text/plain": [
       "<Figure size 161.46x99.7823 with 1 Axes>"
      ]
     },
     "metadata": {
      "needs_background": "light"
     },
     "output_type": "display_data"
    }
   ],
   "source": [
    "evaldqn.plot_total_packet_cost_paper(total_cost_per_packet_rc, '1', False, 0.65)\n",
    "plt.subplots_adjust(left=0.175, top=0.98, right=0.99, bottom=0.275)\n",
    "plt.savefig(f'/opt/project/Graphs/tnsm/total-cost-pp-1mpps.{format}')\n",
    "plt.show()\n",
    "plt.close('all')"
   ]
  },
  {
   "cell_type": "code",
   "execution_count": 104,
   "id": "f7dcc106",
   "metadata": {},
   "outputs": [
    {
     "data": {
      "text/plain": [
       "<module 'scripts.plot_results' from '/opt/project/scripts/plot_results.py'>"
      ]
     },
     "execution_count": 104,
     "metadata": {},
     "output_type": "execute_result"
    }
   ],
   "source": [
    "reload(evaldqn)"
   ]
  },
  {
   "cell_type": "code",
   "execution_count": null,
   "id": "75d0e497",
   "metadata": {},
   "outputs": [],
   "source": [
    "for k, graphs in all_graphs.items():\n",
    "    evaldqn.plot_individual_core_utilization(graphs, k)"
   ]
  },
  {
   "cell_type": "markdown",
   "id": "79eb0442",
   "metadata": {},
   "source": [
    "# Baseline Measurements"
   ]
  },
  {
   "cell_type": "code",
   "execution_count": null,
   "id": "22cf5e63",
   "metadata": {},
   "outputs": [],
   "source": [
    "def make_fill_between_lines(df: pd.DataFrame) -> Tuple[List[float], List[float]]:\n",
    "    acti_x = []\n",
    "    acti_y = []\n",
    "    ticks = df.ticks\n",
    "    for t1, t2 in zip(ticks.iloc[:-1].values, ticks.iloc[1:].values):\n",
    "        delta = (t2 - t1) / 2.2e6\n",
    "        if delta < 0.2:\n",
    "            if len(acti_x) == 0:\n",
    "                acti_x.append(t1)\n",
    "                acti_y.append(1)\n",
    "            acti_x.append(t2)\n",
    "            acti_y.append(1)\n",
    "        else:\n",
    "            acti_x.extend([t1, t2, t2])\n",
    "            acti_y.extend([0, 0, 1])\n",
    "    return acti_x, acti_y"
   ]
  },
  {
   "cell_type": "code",
   "execution_count": 2,
   "id": "49bec5ff",
   "metadata": {},
   "outputs": [],
   "source": [
    "bpath = '/opt/project/data/basic-cfs'"
   ]
  },
  {
   "cell_type": "code",
   "execution_count": 3,
   "id": "9710a80b",
   "metadata": {},
   "outputs": [],
   "source": [
    "df_short = pd.read_csv(os.path.join(bpath, 'stats-short-worker-3.csv'), sep=',')\n",
    "df_short2 = pd.read_csv(os.path.join(bpath, 'stats-second-short-worker-3.csv'), sep=',')\n",
    "df_long = pd.read_csv(os.path.join(bpath, 'stats-long-worker-3.csv'), sep=',')\n",
    "df_short = df_short.loc[df_short.ticks > 0]\n",
    "df_short2 = df_short2.loc[df_short2.ticks > 0]\n",
    "df_long = df_long.loc[df_long.ticks > 0]\n",
    "yield_short = (df_short - df_long.ticks.iloc[0]) / 2.2e6\n",
    "yield_short2 = (df_short2 - df_long.ticks.iloc[0]) / 2.2e6\n",
    "yield_long = (df_long - df_long.ticks.iloc[0]) / 2.2e6\n",
    "\n",
    "\n",
    "diff_short = yield_short.diff().dropna()\n",
    "diff_long = yield_long.diff().dropna()\n",
    "diff_short2 = yield_short2.diff().dropna()"
   ]
  },
  {
   "cell_type": "code",
   "execution_count": 27,
   "id": "11ee7c1b",
   "metadata": {},
   "outputs": [
    {
     "data": {
      "image/png": "[encoded data removed]",
      "text/plain": [
       "<Figure size 248.4x62.1 with 1 Axes>"
      ]
     },
     "metadata": {
      "needs_background": "light"
     },
     "output_type": "display_data"
    }
   ],
   "source": [
    "ref = np.min([df_long.ticks.values[0], df_short.ticks.values[0], df_short2.ticks.values[0]])\n",
    "s = ref + 2.2e9\n",
    "e = s + 0.1 * 2.2e9\n",
    "# x_long = (df_long.ticks.loc[df_long.ticks.values < ref + 0.25 * 2.2e9].values - ref) / 2.2e6\n",
    "tmp = df_long.loc[df_long.ticks.values > s]\n",
    "x_long = (tmp.ticks.loc[tmp.ticks.values < e] - ref) / 2.2e6\n",
    "y_long = np.repeat(1, x_long.size)\n",
    "# x_short = (df_short.ticks.loc[df_short.ticks.values < ref + 0.25 * 2.2e9].values - ref) / 2.2e6\n",
    "tmp = df_short.loc[df_short.ticks.values > s]\n",
    "x_short = (tmp.ticks.loc[tmp.ticks.values < e] - ref) / 2.2e6\n",
    "y_short = np.repeat(2, x_short.size)\n",
    "# x_short2 = (df_short2.ticks.loc[df_short2.ticks.values < ref + 0.25 * 2.2e9].values - ref) / 2.2e6\n",
    "tmp = df_short2.loc[df_short2.ticks.values > s]\n",
    "x_short2 = (tmp.ticks.loc[tmp.ticks.values < e] - ref) / 2.2e6\n",
    "y_short2 = np.repeat(3, x_short2.size)\n",
    "\n",
    "fig, ax = plutils.get_fig(1, 0.25)\n",
    "ax.scatter(x_long, y_long, s=5, label='long')\n",
    "ax.scatter(x_short, y_short, s=5, label='short')\n",
    "ax.scatter(x_short2, y_short2, s=5, label='short2')\n",
    "ax.set_yticks([1 ,2 ,3])\n",
    "ax.set_ylim(0.5, 3.5)\n",
    "ax.set_yticklabels(['Heavy', 'Light1', 'Light2'])\n",
    "ax.set_xlabel(\"Time in ms\")\n",
    "ax.spines[\"top\"].set_visible(False)\n",
    "ax.spines[\"right\"].set_visible(False)\n",
    "ax.spines[\"left\"].set_visible(False)\n",
    "ax.spines[\"bottom\"].set_visible(False)\n",
    "# ax.legend(frameon=False)\n",
    "plt.subplots_adjust(left=0.14, bottom=0.45, right=1, top=1)\n",
    "# plt.tight_layout()\n",
    "plt.savefig('/opt/project/Graphs/activity-1ms-no-yield.pdf')\n",
    "plt.show()"
   ]
  },
  {
   "cell_type": "code",
   "execution_count": 15,
   "id": "0ccfe7bb",
   "metadata": {},
   "outputs": [],
   "source": [
    "plt.subplots_adjust?"
   ]
  },
  {
   "cell_type": "code",
   "execution_count": null,
   "id": "f3a18438",
   "metadata": {},
   "outputs": [],
   "source": [
    "ax = plt.subplot()\n",
    "ax.violinplot(\n",
    "    dataset=[\n",
    "        diff_short.ticks.loc[diff_short.ticks.values > 0.15].values,\n",
    "        diff_short2.ticks.loc[diff_short2.ticks.values > 0.15].values,\n",
    "        diff_long.ticks.loc[diff_long.ticks.values > 0.15].values,\n",
    "    ],\n",
    "    positions=[1, 2, 3],\n",
    "    showextrema=False,\n",
    "    vert=False\n",
    ")\n",
    "ax.set_yticks([1, 2, 3])\n",
    "ax.set_yticklabels([\"Light\", \"Light\", \"Heavy\"])\n",
    "ax.set_xlabel(\"Inactive time [ms]\")\n",
    "plt.tight_layout()\n",
    "plt.savefig(\"Graphs/inactive-times-1-ms-no-yield.png\")\n",
    "plt.show()"
   ]
  },
  {
   "cell_type": "code",
   "execution_count": null,
   "id": "e5977915",
   "metadata": {},
   "outputs": [],
   "source": [
    "ref = np.min([df_long.ticks.values[0], df_short.ticks.values[0], df_short2.ticks.values[0]])\n",
    "s = ref + 1.10 * 2.2e9\n",
    "e = s + 0.075 * 2.2e9\n",
    "first_ms = (int(s / 2.2e6) + 1) * 2.2e6\n",
    "xticks = np.arange(first_ms, e, 25 * 2.2e6)\n",
    "\n",
    "fig, ax = plutils.get_fig(1)\n",
    "tmp = df_long.loc[np.logical_and(df_long.ticks.values > s, df_long.ticks.values < e)]\n",
    "acti_x, acti_y = make_fill_between_lines(tmp)\n",
    "ax.fill_between(acti_x, np.zeros(len(acti_y)), acti_y, fc=plutils.COLORS[0], hatch=\"+++\", label='Heavy')\n",
    "\n",
    "tmp = df_short.loc[np.logical_and(df_short.ticks.values > s, df_short.ticks.values < e)]\n",
    "acti_x, acti_y = make_fill_between_lines(tmp)\n",
    "ax.fill_between(acti_x, np.zeros(len(acti_y)), acti_y, fc=plutils.COLORS[1], hatch=\"***\", label='Light1')\n",
    "\n",
    "tmp = df_short2.loc[np.logical_and(df_short2.ticks.values > s, df_short2.ticks.values < e)]\n",
    "acti_x, acti_y = make_fill_between_lines(tmp)\n",
    "ax.fill_between(acti_x, np.zeros(len(acti_y)), acti_y, fc=plutils.COLORS[2], hatch=\"...\", label='Light2')\n",
    "\n",
    "ax.set_yticks([])\n",
    "ax.set_xticks(xticks)\n",
    "ax.set_xticklabels(25 * np.arange(len(xticks)))\n",
    "ax.set_xlabel(\"Time [ms]\")\n",
    "ax.set_xlim(xticks[0], xticks[-1])\n",
    "ax.set_ylim(0, 1)\n",
    "leg = plt.legend(frameon=False, loc='upper left', bbox_to_anchor=(0.0, 1.175), ncol=3)\n",
    "for patch in leg.get_patches():\n",
    "    patch.set_height(patch.get_height() * 2)\n",
    "plt.tight_layout()\n",
    "plt.savefig(\"Graphs/process-activity-basic-cfs-yield.pdf\")\n",
    "plt.show()\n",
    "plt.close('all')"
   ]
  },
  {
   "cell_type": "markdown",
   "id": "d1ce3670",
   "metadata": {},
   "source": [
    "# Linear Regression Model"
   ]
  },
  {
   "cell_type": "code",
   "execution_count": 498,
   "id": "e8266adc",
   "metadata": {},
   "outputs": [],
   "source": [
    "from sklearn.linear_model import LinearRegression\n",
    "from sklearn.preprocessing import MinMaxScaler\n",
    "import sklearn.metrics as skm"
   ]
  },
  {
   "cell_type": "code",
   "execution_count": 493,
   "id": "44d507ec",
   "metadata": {},
   "outputs": [],
   "source": [
    "def lin_reg_ds(flat_graphs: List[nx.Graph]) -> List[np.array]:\n",
    "    all_features = []\n",
    "    for g in flat_graphs: #all_graphs['RL-1N-2.5']:\n",
    "        for u, attrs in g.nodes(data=True):\n",
    "            if attrs['node_type'] == 'cpu': # and not attrs['hard_overload']:\n",
    "                cpu_features = np.zeros(11)\n",
    "                cpu_features[0] = float(np.sum([1 if g.nodes[m]['node_type'] == 'vnf' else 0 for m in g.neighbors(u)]))\n",
    "                cpu_features[1] = float(np.min([g.nodes[m]['ratio'] if g.nodes[m]['node_type'] == 'vnf' else 1e9 for m in g.neighbors(u)]))\n",
    "                cpu_features[2] = float(np.max([g.nodes[m]['ratio'] if g.nodes[m]['node_type'] == 'vnf' else 0 for m in g.neighbors(u)]))\n",
    "                cpu_features[3] = np.abs(1 - cpu_features[1] / cpu_features[2])\n",
    "                cpu_features[4] = attrs['arrival_rate']\n",
    "                cpu_features[5] = attrs['cost']\n",
    "                cpu_features[6] = attrs['demand'] / 2.2e9\n",
    "                for v in g.neighbors(u):\n",
    "                    if g.nodes[v]['node_type'] == 'vnf':\n",
    "                        node_features = cpu_features.copy()\n",
    "                        node_features[7] = g.nodes[v]['arrival_rate']\n",
    "                        node_features[8] = g.nodes[v]['cost']\n",
    "                        node_features[9] = g.nodes[v]['demand']\n",
    "                        node_features[10] = g.nodes[v]['throughput']\n",
    "                        all_features.append(node_features)\n",
    "    df = pd.DataFrame(\n",
    "        all_features,\n",
    "        columns=['num_nfs', 'min_ratio', 'max_ratio', 'ratioratio',\n",
    "                 'cpu_arrival_rate', 'cpu_cost', 'cpu_demand',\n",
    "                 'vnf_arrival_rate', 'vnf_cost', 'vnf_demand', 'throughput']\n",
    "    )\n",
    "    return df"
   ]
  },
  {
   "cell_type": "code",
   "execution_count": 479,
   "id": "1aa83376",
   "metadata": {},
   "outputs": [],
   "source": [
    "train_files, val_files = grutils.dset_graph_files()\n",
    "train_graphs = [dutils.load_graph(f) for f in train_files]\n",
    "val_graphs = [dutils.load_graph(f) for f in val_files]"
   ]
  },
  {
   "cell_type": "code",
   "execution_count": 545,
   "id": "bc3c9d3d",
   "metadata": {},
   "outputs": [
    {
     "name": "stderr",
     "output_type": "stream",
     "text": [
      "/tmp/ipykernel_60/2255059030.py:10: RuntimeWarning: divide by zero encountered in double_scalars\n",
      "  cpu_features[3] = np.abs(1 - cpu_features[1] / cpu_features[2])\n"
     ]
    }
   ],
   "source": [
    "df_train = lin_reg_ds(train_graphs)\n",
    "df_val = lin_reg_ds(val_graphs)"
   ]
  },
  {
   "cell_type": "code",
   "execution_count": 546,
   "id": "15befc93",
   "metadata": {},
   "outputs": [],
   "source": [
    "scale = df_train.throughput.max()"
   ]
  },
  {
   "cell_type": "code",
   "execution_count": 547,
   "id": "5b847903",
   "metadata": {},
   "outputs": [],
   "source": [
    "scaler = MinMaxScaler().fit(df_train.iloc[:, :-1].values)\n",
    "X_train = scaler.transform(df_train.iloc[:, :-1].values)\n",
    "X_val = scaler.transform(df_val.iloc[:, :-1].values)\n",
    "z_train = df_train.iloc[:, -1].values / scale\n",
    "z_val = df_val.iloc[:, -1].values\n",
    "lr = LinearRegression().fit(X_train, z_train)"
   ]
  },
  {
   "cell_type": "code",
   "execution_count": 548,
   "id": "ac3e8f6b",
   "metadata": {},
   "outputs": [],
   "source": [
    "y = lr.predict(X_val) * scale"
   ]
  },
  {
   "cell_type": "code",
   "execution_count": 504,
   "id": "899f47a4",
   "metadata": {},
   "outputs": [],
   "source": [
    "ecdf_lr = np.cumsum(pd.Series((y-z)).value_counts(normalize=True).sort_index())"
   ]
  },
  {
   "cell_type": "code",
   "execution_count": 550,
   "id": "2a5ff403",
   "metadata": {},
   "outputs": [
    {
     "data": {
      "text/plain": [
       "1.4928995136094645"
      ]
     },
     "execution_count": 550,
     "metadata": {},
     "output_type": "execute_result"
    }
   ],
   "source": [
    "np.mean(np.abs((y-z)) / z)"
   ]
  },
  {
   "cell_type": "code",
   "execution_count": 503,
   "id": "1278af30",
   "metadata": {},
   "outputs": [
    {
     "data": {
      "image/png": "[encoded data removed]",
      "text/plain": [
       "<Figure size 248.4x153.511 with 1 Axes>"
      ]
     },
     "metadata": {
      "needs_background": "light"
     },
     "output_type": "display_data"
    }
   ],
   "source": [
    "fig, ax = plutils.get_fig(1)\n",
    "ax.plot([0, 0], [0, 1], linestyle='--', color='black', linewidth=0.5)\n",
    "ax.plot(ecdf_lr.index.values, ecdf_lr.values, label='DT-LR')\n",
    "ax.set_xlabel(\"L1 Error [Pps]\")\n",
    "ax.set_ylabel(\"P(X<x)\")\n",
    "ax.legend(frameon=False)\n",
    "plt.tight_layout()"
   ]
  },
  {
   "cell_type": "code",
   "execution_count": 544,
   "id": "a627eb41",
   "metadata": {},
   "outputs": [
    {
     "data": {
      "text/plain": [
       "1848858287.341565"
      ]
     },
     "execution_count": 544,
     "metadata": {},
     "output_type": "execute_result"
    }
   ],
   "source": [
    "np.sum(ecdf_lr.index.values * ecdf_lr.values)"
   ]
  },
  {
   "cell_type": "markdown",
   "id": "d4ae3942",
   "metadata": {},
   "source": [
    "# Logistic Regression Model"
   ]
  },
  {
   "cell_type": "code",
   "execution_count": 530,
   "id": "52576a6d",
   "metadata": {},
   "outputs": [],
   "source": [
    "from sklearn.linear_model import LogisticRegression\n",
    "from sklearn.preprocessing import MinMaxScaler\n",
    "import sklearn.metrics as skm"
   ]
  },
  {
   "cell_type": "code",
   "execution_count": 693,
   "id": "e4e196f7",
   "metadata": {},
   "outputs": [],
   "source": [
    "def log_reg_x(flat_graphs):\n",
    "    all_features = []\n",
    "    for g in flat_graphs: #all_graphs['RL-1N-2.5']:\n",
    "        for u, attrs in g.nodes(data=True):\n",
    "            if attrs['node_type'] == 'cpu' and 'soft_overload' in attrs: # and not attrs['hard_overload']:\n",
    "                node_features = np.zeros(8)\n",
    "                node_features[0] = float(np.sum([1 if g.nodes[m]['node_type'] == 'vnf' else 0 for m in g.neighbors(u)]))\n",
    "                node_features[1] = float(np.min([g.nodes[m]['ratio'] if g.nodes[m]['node_type'] == 'vnf' else 1e9 for m in g.neighbors(u)]))\n",
    "                node_features[2] = float(np.max([g.nodes[m]['ratio'] if g.nodes[m]['node_type'] == 'vnf' else 0 for m in g.neighbors(u)]))\n",
    "                node_features[3] = np.abs(1 - node_features[1] / node_features[2])\n",
    "                node_features[4] = attrs['arrival_rate']\n",
    "                node_features[5] = attrs['cost']\n",
    "                node_features[6] = attrs['demand'] / 2.2e9\n",
    "                node_features[7] = attrs['hard_overload']\n",
    "                all_features.append(node_features)\n",
    "    return pd.DataFrame(\n",
    "        np.row_stack(all_features),\n",
    "        columns=['num_vnfs', 'min_ratio', 'max_ratio', \n",
    "                 'ratioratio', 'rate', 'cost', 'demand',\n",
    "                 'overlaod'])"
   ]
  },
  {
   "cell_type": "code",
   "execution_count": 694,
   "id": "47e0d544",
   "metadata": {},
   "outputs": [],
   "source": [
    "def trim_samples(df_train):\n",
    "    mask = np.logical_not(np.logical_and(df_train.demand.values > 100.0, df_train.overlaod.values == 0))\n",
    "    return df_train.loc[mask]"
   ]
  },
  {
   "cell_type": "code",
   "execution_count": 695,
   "id": "f0575984",
   "metadata": {},
   "outputs": [],
   "source": [
    "df_train = trim_samples(log_reg_x(train_graphs))\n",
    "df_val = trim_samples(log_reg_x(val_graphs))"
   ]
  },
  {
   "cell_type": "code",
   "execution_count": 696,
   "id": "530c7e77",
   "metadata": {},
   "outputs": [
    {
     "name": "stdout",
     "output_type": "stream",
     "text": [
      "0.8860481702968124\n",
      "0.6178846515123051\n",
      "0.987094837935174\n",
      "\n",
      "0.8813366674244146\n",
      "0.6199701937406855\n",
      "0.985781990521327\n",
      "       num_vnfs          rate          cost     demand  min_ratio  max_ratio\n",
      "coef  11.560948  7.056595e+00      2.821561  24.975950  -6.003867   7.778854\n",
      "min    1.000000  3.554800e+04    175.000000   0.008081   0.004017   0.110489\n",
      "max   15.000000  7.830358e+06  25574.000000   2.497223   1.000000   1.000000\n",
      "Intercept [-11.80524334]\n",
      "['num_vnfs', 'rate', 'cost', 'demand', 'min_ratio', 'max_ratio']\n",
      "[[11.56094786  7.05659499  2.82156143 24.9759497  -6.00386695  7.77885372]]\n",
      "[1.00000000e+00 3.55480000e+04 1.75000000e+02 8.08135091e-03\n",
      " 4.01684110e-03 1.10489350e-01]\n",
      "[1.50000000e+01 7.83035800e+06 2.55740000e+04 2.49722312e+00\n",
      " 1.00000000e+00 1.00000000e+00]\n"
     ]
    }
   ],
   "source": [
    "features = ['num_vnfs', 'rate', 'cost', 'demand', 'min_ratio', 'max_ratio']\n",
    "X = df_train.loc[:, features].values\n",
    "scaler = MinMaxScaler().fit(X)\n",
    "X_train = scaler.transform(X)\n",
    "X_val = scaler.transform(df_val.loc[:, features].values)\n",
    "z_train = df_train.values[:, -1]\n",
    "z_val = df_val.values[:, -1]\n",
    "\n",
    "model = LogisticRegression(penalty='l1', solver='liblinear')\n",
    "\n",
    "weights = z_train * 10 + 1\n",
    "# weights = np.ones(X.shape[0])\n",
    "model.fit(X_train, z_train, sample_weight=weights)\n",
    "y_train = model.predict(X_train)\n",
    "y_val = model.predict(X_val)\n",
    "# y[tmp2.demand.values > 0.8] = 1\n",
    "print(skm.accuracy_score(z_train, y_train))\n",
    "print(skm.precision_score(z_train, y_train))\n",
    "print(skm.recall_score(z_train, y_train))\n",
    "print()\n",
    "print(skm.accuracy_score(z_val, y_val))\n",
    "print(skm.precision_score(z_val, y_val))\n",
    "print(skm.recall_score(z_val, y_val))\n",
    "print(pd.DataFrame(np.row_stack((model.coef_, scaler.data_min_, scaler.data_max_)), columns=features, index=['coef', 'min', 'max']))\n",
    "print(\"Intercept\", model.intercept_)\n",
    "\n",
    "print(features)\n",
    "print(model.coef_)\n",
    "print(scaler.data_min_)\n",
    "print(scaler.data_max_)"
   ]
  },
  {
   "cell_type": "code",
   "execution_count": 697,
   "id": "c8c51989",
   "metadata": {},
   "outputs": [],
   "source": [
    "precs = []\n",
    "recs = []\n",
    "accs = []\n",
    "for i in range(11):\n",
    "    model = LogisticRegression(penalty='l1', solver='liblinear')\n",
    "    weights = z_train * i + 1\n",
    "    # weights = np.ones(X.shape[0])\n",
    "    model.fit(X_train, z_train, sample_weight=weights)\n",
    "    y_val = model.predict(X_val)\n",
    "    accs.append(skm.accuracy_score(z_val, y_val))\n",
    "    precs.append(skm.precision_score(z_val, y_val))\n",
    "    recs.append(skm.recall_score(z_val, y_val))"
   ]
  },
  {
   "cell_type": "code",
   "execution_count": 759,
   "id": "f53540fb",
   "metadata": {},
   "outputs": [
    {
     "data": {
      "image/png": "[encoded data removed]",
      "text/plain": [
       "<Figure size 186.3x115.133 with 1 Axes>"
      ]
     },
     "metadata": {
      "needs_background": "light"
     },
     "output_type": "display_data"
    }
   ],
   "source": [
    "fig, ax = plutils.get_fig(0.75)\n",
    "# fig.set_figheight(fig.get_figheight() * 1.5)\n",
    "ax.plot(np.array(accs), label=\"AC\", marker='s', markevery=2)\n",
    "ax.plot(np.array(recs), label='RC', marker='o', markevery=2)\n",
    "ax.plot(np.array(precs), label='PR', marker='v', markevery=2)\n",
    "ax.set_xlabel(\"Weight\")\n",
    "ax.set_ylabel(\"Value\")\n",
    "ax.set_xticks([0, 5, 10])\n",
    "ax.set_xticklabels([0, 5, 10])\n",
    "plt.legend(frameon=False, ncol=2)\n",
    "plt.subplots_adjust(left=0.18, right=0.99, top=0.98, bottom=0.25)\n",
    "plt.savefig(\"/opt/project/Graphs/tnsm/classification-metrics-log-reg.pdf\")"
   ]
  },
  {
   "cell_type": "code",
   "execution_count": 572,
   "id": "8c2c507b",
   "metadata": {},
   "outputs": [
    {
     "data": {
      "text/plain": [
       "[0.7938388625592417,\n",
       " 0.9146919431279621,\n",
       " 0.9620853080568721,\n",
       " 0.9703791469194313,\n",
       " 0.9786729857819905,\n",
       " 0.981042654028436,\n",
       " 0.9834123222748815,\n",
       " 0.9845971563981043,\n",
       " 0.985781990521327,\n",
       " 0.985781990521327,\n",
       " 0.985781990521327,\n",
       " 0.985781990521327,\n",
       " 0.985781990521327,\n",
       " 0.985781990521327,\n",
       " 0.985781990521327,\n",
       " 0.985781990521327,\n",
       " 0.985781990521327,\n",
       " 0.985781990521327,\n",
       " 0.985781990521327,\n",
       " 0.985781990521327,\n",
       " 0.985781990521327]"
      ]
     },
     "execution_count": 572,
     "metadata": {},
     "output_type": "execute_result"
    }
   ],
   "source": [
    "recs"
   ]
  },
  {
   "cell_type": "code",
   "execution_count": 625,
   "id": "c4e112e0",
   "metadata": {},
   "outputs": [
    {
     "data": {
      "text/plain": [
       "(0.985781990521327, 0.6322188449848024, 0.8872471016140032)"
      ]
     },
     "execution_count": 625,
     "metadata": {},
     "output_type": "execute_result"
    }
   ],
   "source": [
    "recs[8], precs[8], accs[8]"
   ]
  },
  {
   "cell_type": "markdown",
   "id": "1c51deaf",
   "metadata": {},
   "source": [
    "# Digital Twin"
   ]
  },
  {
   "cell_type": "code",
   "execution_count": 215,
   "id": "bf2227e5",
   "metadata": {},
   "outputs": [],
   "source": [
    "import scripts.eval_perfmodel as evpfm\n",
    "import torch\n",
    "import sklearn.metrics as skm"
   ]
  },
  {
   "cell_type": "code",
   "execution_count": 256,
   "id": "0a5e9004",
   "metadata": {},
   "outputs": [],
   "source": [
    "import layers.vnfmodel"
   ]
  },
  {
   "cell_type": "code",
   "execution_count": 269,
   "id": "78d73dfb",
   "metadata": {},
   "outputs": [
    {
     "data": {
      "text/plain": [
       "<module 'layers.vnfmodel' from '/opt/project/layers/vnfmodel.py'>"
      ]
     },
     "execution_count": 269,
     "metadata": {},
     "output_type": "execute_result"
    }
   ],
   "source": [
    "reload(evpfm)\n",
    "reload(layers.vnfmodel)"
   ]
  },
  {
   "cell_type": "code",
   "execution_count": 205,
   "id": "4cd91d79",
   "metadata": {},
   "outputs": [
    {
     "data": {
      "text/plain": [
       "['DenseGatNewSpace-sfc_latency',\n",
       " 'DenseGatNewSpace-sfc_throughput',\n",
       " 'DenseGatNewSpace-vnf_throughput',\n",
       " 'GoldenSamplesDenseGatSoftFailure-new-space']"
      ]
     },
     "execution_count": 205,
     "metadata": {},
     "output_type": "execute_result"
    }
   ],
   "source": [
    "os.listdir('/opt/project/data/nas/digital-twin-dnn-models')"
   ]
  },
  {
   "cell_type": "markdown",
   "id": "99b10e83",
   "metadata": {},
   "source": [
    "## Tipping Point"
   ]
  },
  {
   "cell_type": "code",
   "execution_count": 621,
   "id": "404945bb",
   "metadata": {},
   "outputs": [
    {
     "data": {
      "text/plain": [
       "{'batch_size': 294,\n",
       " 'model_config': {'attn_module_config': {'attention_class': 'Gat',\n",
       "   'dim_hidden': 24,\n",
       "   'dim_in': None,\n",
       "   'dim_linear': None,\n",
       "   'dim_out': 21,\n",
       "   'num_heads': 5},\n",
       "  'dim_hiddens': [60, 41],\n",
       "  'dim_in': 27,\n",
       "  'dim_initial': 16,\n",
       "  'dim_out': 2,\n",
       "  'num_attn_modules': 3},\n",
       " 'optimizer': {'lr': 1.591408722500197e-05, 'weight_decay': 0},\n",
       " 'seed': 1,\n",
       " 'target': 'soft_overload'}"
      ]
     },
     "execution_count": 621,
     "metadata": {},
     "output_type": "execute_result"
    }
   ],
   "source": [
    "c"
   ]
  },
  {
   "cell_type": "code",
   "execution_count": 620,
   "id": "ea06c803",
   "metadata": {},
   "outputs": [],
   "source": [
    "with open(os.path.join(ldir, 'params.json'), 'r') as fh:\n",
    "    c = json.load(fh)"
   ]
  },
  {
   "cell_type": "code",
   "execution_count": 618,
   "id": "b0cbcbe0",
   "metadata": {},
   "outputs": [],
   "source": [
    "a = evpfm.load_tune_result('/opt/project/data/nas/digital-twin-dnn-models/GoldenSamplesDenseGatSoftFailure-new-space')"
   ]
  },
  {
   "cell_type": "code",
   "execution_count": 619,
   "id": "5c3f2bd5",
   "metadata": {},
   "outputs": [],
   "source": [
    "ldir = str(a.get_best_logdir(metric='val_loss', mode='min'))\n",
    "exp_name = os.path.split(os.path.split(ldir)[0])[1]\n",
    "fig_dir = os.path.join('/opt/project/Graphs', exp_name)\n",
    "if not os.path.exists(fig_dir):\n",
    "    os.mkdir(fig_dir)"
   ]
  },
  {
   "cell_type": "code",
   "execution_count": 622,
   "id": "1823ff1b",
   "metadata": {},
   "outputs": [],
   "source": [
    "step_results = evpfm.get_json_result_data(ldir)"
   ]
  },
  {
   "cell_type": "code",
   "execution_count": 623,
   "id": "29a4be3c",
   "metadata": {},
   "outputs": [
    {
     "data": {
      "image/png": "[encoded data removed]",
      "text/plain": [
       "<Figure size 248.4x153.511 with 1 Axes>"
      ]
     },
     "metadata": {
      "needs_background": "light"
     },
     "output_type": "display_data"
    }
   ],
   "source": [
    "fig, ax = plutils.get_fig(1)\n",
    "ax.plot([a['val_loss'] for a in step_results], c=plutils.COLORS[0],\n",
    "        marker=plutils.MARKER[0], markevery=30, markeredgecolor='black',\n",
    "        markerfacecolor='white')\n",
    "ax.set_xlabel(\"Epoch\")\n",
    "ax.set_ylabel(\"Validation Loss\")\n",
    "# ax.set_yscale('log')\n",
    "plt.tight_layout()\n",
    "plt.savefig(os.path.join(fig_dir, 'validation-loss.pdf'))\n",
    "plt.show()\n",
    "plt.close(fig)"
   ]
  },
  {
   "cell_type": "code",
   "execution_count": 210,
   "id": "13ddbe1a",
   "metadata": {},
   "outputs": [],
   "source": [
    "model = evpfm.load_best_model(a)\n",
    "dset = evpfm.GraphDataset.from_hdf5('/opt/project/data/nas/graphs-golden-samples/val-set.h5',\n",
    "                                    target='soft_overload')\n",
    "loader = evpfm.DataLoader(dset, batch_size=200, shuffle=True)"
   ]
  },
  {
   "cell_type": "code",
   "execution_count": 213,
   "id": "1521685d",
   "metadata": {
    "scrolled": true
   },
   "outputs": [
    {
     "name": "stdout",
     "output_type": "stream",
     "text": [
      "Batch 0\n",
      "Batch 1\n",
      "Batch 2\n",
      "Batch 3\n",
      "Batch 4\n",
      "Batch 5\n",
      "Batch 6\n",
      "Batch 7\n",
      "Batch 8\n",
      "Batch 9\n",
      "Batch 10\n",
      "Batch 11\n",
      "Batch 12\n",
      "Batch 13\n",
      "Batch 14\n",
      "Batch 15\n",
      "Batch 16\n",
      "Batch 17\n",
      "Batch 18\n",
      "Batch 19\n",
      "Batch 20\n",
      "Batch 21\n"
     ]
    },
    {
     "ename": "NameError",
     "evalue": "name 'skm' is not defined",
     "output_type": "error",
     "traceback": [
      "\u001b[0;31m---------------------------------------------------------------------------\u001b[0m",
      "\u001b[0;31mNameError\u001b[0m                                 Traceback (most recent call last)",
      "\u001b[0;32m/tmp/ipykernel_60/1423448245.py\u001b[0m in \u001b[0;36m<module>\u001b[0;34m\u001b[0m\n\u001b[1;32m     14\u001b[0m         \u001b[0my\u001b[0m \u001b[0;34m=\u001b[0m \u001b[0mnp\u001b[0m\u001b[0;34m.\u001b[0m\u001b[0mconcatenate\u001b[0m\u001b[0;34m(\u001b[0m\u001b[0;34m[\u001b[0m\u001b[0my\u001b[0m\u001b[0;34m,\u001b[0m \u001b[0mtorch\u001b[0m\u001b[0;34m.\u001b[0m\u001b[0margmax\u001b[0m\u001b[0;34m(\u001b[0m\u001b[0mprediction\u001b[0m\u001b[0;34m,\u001b[0m \u001b[0mdim\u001b[0m\u001b[0;34m=\u001b[0m\u001b[0;34m-\u001b[0m\u001b[0;36m1\u001b[0m\u001b[0;34m)\u001b[0m\u001b[0;34m.\u001b[0m\u001b[0mnumpy\u001b[0m\u001b[0;34m(\u001b[0m\u001b[0;34m)\u001b[0m\u001b[0;34m]\u001b[0m\u001b[0;34m)\u001b[0m\u001b[0;34m\u001b[0m\u001b[0;34m\u001b[0m\u001b[0m\n\u001b[1;32m     15\u001b[0m         \u001b[0mz\u001b[0m \u001b[0;34m=\u001b[0m \u001b[0mnp\u001b[0m\u001b[0;34m.\u001b[0m\u001b[0mconcatenate\u001b[0m\u001b[0;34m(\u001b[0m\u001b[0;34m[\u001b[0m\u001b[0mz\u001b[0m\u001b[0;34m,\u001b[0m \u001b[0mtorch\u001b[0m\u001b[0;34m.\u001b[0m\u001b[0margmax\u001b[0m\u001b[0;34m(\u001b[0m\u001b[0msample\u001b[0m\u001b[0;34m[\u001b[0m\u001b[0;34m'target'\u001b[0m\u001b[0;34m]\u001b[0m\u001b[0;34m,\u001b[0m \u001b[0mdim\u001b[0m\u001b[0;34m=\u001b[0m\u001b[0;34m-\u001b[0m\u001b[0;36m1\u001b[0m\u001b[0;34m)\u001b[0m\u001b[0;34m.\u001b[0m\u001b[0mnumpy\u001b[0m\u001b[0;34m(\u001b[0m\u001b[0;34m)\u001b[0m\u001b[0;34m]\u001b[0m\u001b[0;34m)\u001b[0m\u001b[0;34m\u001b[0m\u001b[0;34m\u001b[0m\u001b[0m\n\u001b[0;32m---> 16\u001b[0;31m \u001b[0macc\u001b[0m \u001b[0;34m=\u001b[0m \u001b[0mskm\u001b[0m\u001b[0;34m.\u001b[0m\u001b[0maccuracy_score\u001b[0m\u001b[0;34m(\u001b[0m\u001b[0my\u001b[0m\u001b[0;34m,\u001b[0m \u001b[0mz\u001b[0m\u001b[0;34m)\u001b[0m\u001b[0;34m\u001b[0m\u001b[0;34m\u001b[0m\u001b[0m\n\u001b[0m\u001b[1;32m     17\u001b[0m \u001b[0mrec\u001b[0m \u001b[0;34m=\u001b[0m \u001b[0mskm\u001b[0m\u001b[0;34m.\u001b[0m\u001b[0mrecall_score\u001b[0m\u001b[0;34m(\u001b[0m\u001b[0my\u001b[0m\u001b[0;34m,\u001b[0m \u001b[0mz\u001b[0m\u001b[0;34m)\u001b[0m\u001b[0;34m\u001b[0m\u001b[0;34m\u001b[0m\u001b[0m\n\u001b[1;32m     18\u001b[0m \u001b[0mprc\u001b[0m \u001b[0;34m=\u001b[0m \u001b[0mskm\u001b[0m\u001b[0;34m.\u001b[0m\u001b[0mprecision_score\u001b[0m\u001b[0;34m(\u001b[0m\u001b[0my\u001b[0m\u001b[0;34m,\u001b[0m \u001b[0mz\u001b[0m\u001b[0;34m)\u001b[0m\u001b[0;34m\u001b[0m\u001b[0;34m\u001b[0m\u001b[0m\n",
      "\u001b[0;31mNameError\u001b[0m: name 'skm' is not defined"
     ]
    }
   ],
   "source": [
    "y = np.array([])\n",
    "z = np.array([])\n",
    "for i, sample in enumerate(loader):\n",
    "    print(f\"Batch {i}\")\n",
    "    DEV = 'cpu'\n",
    "    with torch.no_grad():\n",
    "        prediction = model(\n",
    "            node_features=sample['node_features'].to(DEV),\n",
    "            query_idxs=sample['query_idx'].to(DEV),\n",
    "            masks=sample['masks'].to(DEV),\n",
    "            adj=sample['adj'].to(DEV)\n",
    "        )\n",
    "        prediction = torch.softmax(prediction, dim=-1)\n",
    "        y = np.concatenate([y, torch.argmax(prediction, dim=-1).numpy()])\n",
    "        z = np.concatenate([z, torch.argmax(sample['target'], dim=-1).numpy()])"
   ]
  },
  {
   "cell_type": "code",
   "execution_count": 216,
   "id": "bec81a18",
   "metadata": {},
   "outputs": [
    {
     "name": "stdout",
     "output_type": "stream",
     "text": [
      "{\n",
      " \"Logdir\": \"/opt/project/data/nas/digital-twin-dnn-models/GoldenSamplesDenseGatSoftFailure-new-space/GatTrainable_a0e1a_00554\",\n",
      " \"Accuracy\": 0.8708797453966811,\n",
      " \"Recall\": 0.6191135734072022,\n",
      " \"Precision\": 0.9802631578947368\n",
      "}\n"
     ]
    }
   ],
   "source": [
    "acc = skm.accuracy_score(y, z)\n",
    "rec = skm.recall_score(y, z)\n",
    "prc = skm.precision_score(y, z)\n",
    "msg = json.dumps(\n",
    "    {\n",
    "        'Logdir': ldir,\n",
    "        'Accuracy': acc,\n",
    "        'Recall': rec,\n",
    "        'Precision': prc\n",
    "    },\n",
    "    indent=1\n",
    ")\n",
    "print(msg)\n",
    "with open(os.path.join(fig_dir, 'stats.txt'), 'w') as fh:\n",
    "    fh.write(msg)"
   ]
  },
  {
   "cell_type": "code",
   "execution_count": 401,
   "id": "9f9e0b0f",
   "metadata": {},
   "outputs": [
    {
     "data": {
      "text/plain": [
       "<module 'scripts.plot_results' from '/opt/project/scripts/plot_results.py'>"
      ]
     },
     "execution_count": 401,
     "metadata": {},
     "output_type": "execute_result"
    }
   ],
   "source": [
    "reload(grutils)\n",
    "reload(evaldqn)"
   ]
  },
  {
   "cell_type": "code",
   "execution_count": 402,
   "id": "536aa39a",
   "metadata": {
    "scrolled": true
   },
   "outputs": [],
   "source": [
    "z_sim, y_sim = evaldqn.get_simulated_soft_overload()"
   ]
  },
  {
   "cell_type": "code",
   "execution_count": 403,
   "id": "37825f25",
   "metadata": {},
   "outputs": [
    {
     "data": {
      "text/plain": [
       "(0.8068306010928962, 0.48549946294307195, 0.6647058823529411)"
      ]
     },
     "execution_count": 403,
     "metadata": {},
     "output_type": "execute_result"
    }
   ],
   "source": [
    "skm.accuracy_score(z_sim, y_sim), skm.precision_score(z_sim, y_sim), skm.recall_score(z_sim, y_sim)"
   ]
  },
  {
   "cell_type": "code",
   "execution_count": 404,
   "id": "055902fb",
   "metadata": {},
   "outputs": [
    {
     "data": {
      "text/plain": [
       "array([False, False, False, ..., False, False, False])"
      ]
     },
     "execution_count": 404,
     "metadata": {},
     "output_type": "execute_result"
    }
   ],
   "source": [
    "z_sim"
   ]
  },
  {
   "cell_type": "code",
   "execution_count": 405,
   "id": "5d6b6ccf",
   "metadata": {},
   "outputs": [
    {
     "data": {
      "text/plain": [
       "array([False, False, False, ..., False, False, False])"
      ]
     },
     "execution_count": 405,
     "metadata": {},
     "output_type": "execute_result"
    }
   ],
   "source": [
    "y_sim"
   ]
  },
  {
   "cell_type": "markdown",
   "id": "69e7d90e",
   "metadata": {},
   "source": [
    "## Sensitivity analysis"
   ]
  },
  {
   "cell_type": "code",
   "execution_count": 659,
   "id": "85fa73b8",
   "metadata": {
    "scrolled": true
   },
   "outputs": [
    {
     "name": "stdout",
     "output_type": "stream",
     "text": [
      "Evaluate model with weight 1\n"
     ]
    },
    {
     "data": {
      "image/png": "[encoded data removed]",
      "text/plain": [
       "<Figure size 248.4x153.511 with 1 Axes>"
      ]
     },
     "metadata": {
      "needs_background": "light"
     },
     "output_type": "display_data"
    },
    {
     "name": "stdout",
     "output_type": "stream",
     "text": [
      "Load:  /opt/project/data/nas/digital-twin-dnn-models/DenseGatNewSpacePbtW1-soft_overload/GatTrainable_18701_00005/params.json\n",
      "\tBatch 0\n",
      "\tBatch 5\n",
      "0.9676826846703733 0.7717860395137982 0.9339864371198946\n",
      "Evaluate model with weight 2\n"
     ]
    },
    {
     "data": {
      "image/png": "[encoded data removed]",
      "text/plain": [
       "<Figure size 248.4x153.511 with 1 Axes>"
      ]
     },
     "metadata": {
      "needs_background": "light"
     },
     "output_type": "display_data"
    },
    {
     "name": "stdout",
     "output_type": "stream",
     "text": [
      "Load:  /opt/project/data/nas/digital-twin-dnn-models/DenseGatNewSpacePbtW2-soft_overload/GatTrainable_cfa34_00009/params.json\n",
      "\tBatch 0\n",
      "\tBatch 5\n",
      "0.9666603343465046 0.7743285399071749 0.9346892966842562\n",
      "Evaluate model with weight 3\n"
     ]
    },
    {
     "data": {
      "image/png": "[encoded data removed]",
      "text/plain": [
       "<Figure size 248.4x153.511 with 1 Axes>"
      ]
     },
     "metadata": {
      "needs_background": "light"
     },
     "output_type": "display_data"
    },
    {
     "name": "stdout",
     "output_type": "stream",
     "text": [
      "Load:  /opt/project/data/nas/digital-twin-dnn-models/DenseGatNewSpacePbtW3-soft_overload/GatTrainable_8741e_00004/params.json\n",
      "\tBatch 0\n",
      "\tBatch 5\n",
      "0.9660870356882738 0.776716439759918 0.9353998584571833\n",
      "Evaluate model with weight 4\n"
     ]
    },
    {
     "data": {
      "image/png": "[encoded data removed]",
      "text/plain": [
       "<Figure size 248.4x153.511 with 1 Axes>"
      ]
     },
     "metadata": {
      "needs_background": "light"
     },
     "output_type": "display_data"
    },
    {
     "name": "stdout",
     "output_type": "stream",
     "text": [
      "Load:  /opt/project/data/nas/digital-twin-dnn-models/DenseGatNewSpacePbtW4-soft_overload/GatTrainable_84dec_00000/params.json\n",
      "\tBatch 0\n",
      "\tBatch 5\n",
      "0.9659527972027973 0.7781768247596915 0.9358635185822748\n",
      "Evaluate model with weight 5\n"
     ]
    },
    {
     "data": {
      "image/png": "[encoded data removed]",
      "text/plain": [
       "<Figure size 248.4x153.511 with 1 Axes>"
      ]
     },
     "metadata": {
      "needs_background": "light"
     },
     "output_type": "display_data"
    },
    {
     "name": "stdout",
     "output_type": "stream",
     "text": [
      "Load:  /opt/project/data/nas/digital-twin-dnn-models/DenseGatNewSpacePbtW5-soft_overload/GatTrainable_c1506_00001/params.json\n",
      "\tBatch 0\n",
      "\tBatch 5\n",
      "0.9662491593813046 0.7778642484942817 0.9358037169020589\n",
      "Evaluate model with weight 6\n"
     ]
    },
    {
     "data": {
      "image/png": "[encoded data removed]",
      "text/plain": [
       "<Figure size 248.4x153.511 with 1 Axes>"
      ]
     },
     "metadata": {
      "needs_background": "light"
     },
     "output_type": "display_data"
    },
    {
     "name": "stdout",
     "output_type": "stream",
     "text": [
      "Load:  /opt/project/data/nas/digital-twin-dnn-models/DenseGatNewSpacePbtW6-soft_overload/GatTrainable_20847_00007/params.json\n",
      "\tBatch 0\n",
      "\tBatch 5\n",
      "0.966523639896373 0.7784878223729256 0.9360504145269023\n",
      "Evaluate model with weight 7\n"
     ]
    },
    {
     "data": {
      "image/png": "[encoded data removed]",
      "text/plain": [
       "<Figure size 248.4x153.511 with 1 Axes>"
      ]
     },
     "metadata": {
      "needs_background": "light"
     },
     "output_type": "display_data"
    },
    {
     "name": "stdout",
     "output_type": "stream",
     "text": [
      "Load:  /opt/project/data/nas/digital-twin-dnn-models/DenseGatNewSpacePbtW7-soft_overload/GatTrainable_4a3ec_00001/params.json\n",
      "\tBatch 0\n",
      "\tBatch 5\n",
      "0.9667785758900687 0.778528764539453 0.9361015124907948\n",
      "Evaluate model with weight 8\n"
     ]
    },
    {
     "data": {
      "image/png": "[encoded data removed]",
      "text/plain": [
       "<Figure size 248.4x153.511 with 1 Axes>"
      ]
     },
     "metadata": {
      "needs_background": "light"
     },
     "output_type": "display_data"
    },
    {
     "name": "stdout",
     "output_type": "stream",
     "text": [
      "Load:  /opt/project/data/nas/digital-twin-dnn-models/DenseGatNewSpacePbtW8-soft_overload/GatTrainable_b3460_00002/params.json\n",
      "\tBatch 0\n",
      "\tBatch 5\n",
      "0.9674683353437877 0.7769503224048678 0.9356802375556771\n",
      "Evaluate model with weight 9\n"
     ]
    },
    {
     "data": {
      "image/png": "[encoded data removed]",
      "text/plain": [
       "<Figure size 248.4x153.511 with 1 Axes>"
      ]
     },
     "metadata": {
      "needs_background": "light"
     },
     "output_type": "display_data"
    },
    {
     "name": "stdout",
     "output_type": "stream",
     "text": [
      "Load:  /opt/project/data/nas/digital-twin-dnn-models/DenseGatNewSpacePbtW9-soft_overload/GatTrainable_e7cd8_00009/params.json\n",
      "\tBatch 0\n",
      "\tBatch 5\n",
      "0.9681122448979592 0.7756204379562044 0.9353322907931615\n",
      "Evaluate model with weight 10\n"
     ]
    },
    {
     "data": {
      "image/png": "[encoded data removed]",
      "text/plain": [
       "<Figure size 248.4x153.511 with 1 Axes>"
      ]
     },
     "metadata": {
      "needs_background": "light"
     },
     "output_type": "display_data"
    },
    {
     "name": "stdout",
     "output_type": "stream",
     "text": [
      "Load:  /opt/project/data/nas/digital-twin-dnn-models/DenseGatNewSpacePbtW10-soft_overload/GatTrainable_ea1c3_00008/params.json\n",
      "\tBatch 0\n",
      "\tBatch 5\n",
      "0.9685031038374717 0.7746931866271689 0.9350798432381844\n",
      "Evaluate model with weight 11\n"
     ]
    },
    {
     "data": {
      "image/png": "[encoded data removed]",
      "text/plain": [
       "<Figure size 248.4x153.511 with 1 Axes>"
      ]
     },
     "metadata": {
      "needs_background": "light"
     },
     "output_type": "display_data"
    },
    {
     "name": "stdout",
     "output_type": "stream",
     "text": [
      "Load:  /opt/project/data/nas/digital-twin-dnn-models/DenseGatNewSpacePbtW11-soft_overload/GatTrainable_8299d_00003/params.json\n",
      "\tBatch 0\n",
      "\tBatch 5\n",
      "0.9689379442318207 0.7739232490856488 0.9348856319111407\n",
      "Evaluate model with weight 12\n"
     ]
    },
    {
     "data": {
      "image/png": "[encoded data removed]",
      "text/plain": [
       "<Figure size 248.4x153.511 with 1 Axes>"
      ]
     },
     "metadata": {
      "needs_background": "light"
     },
     "output_type": "display_data"
    },
    {
     "name": "stdout",
     "output_type": "stream",
     "text": [
      "Load:  /opt/project/data/nas/digital-twin-dnn-models/DenseGatNewSpacePbtW12-soft_overload/GatTrainable_bb0f3_00001/params.json\n",
      "\tBatch 0\n",
      "\tBatch 5\n",
      "0.9693465005302226 0.7736517760321616 0.9348542928980669\n",
      "Evaluate model with weight 13\n"
     ]
    },
    {
     "data": {
      "image/png": "[encoded data removed]",
      "text/plain": [
       "<Figure size 248.4x153.511 with 1 Axes>"
      ]
     },
     "metadata": {
      "needs_background": "light"
     },
     "output_type": "display_data"
    },
    {
     "name": "stdout",
     "output_type": "stream",
     "text": [
      "Load:  /opt/project/data/nas/digital-twin-dnn-models/DenseGatNewSpacePbtW13-soft_overload/GatTrainable_ea904_00005/params.json\n",
      "\tBatch 0\n",
      "\tBatch 5\n",
      "0.9699240864642306 0.7727575602255253 0.9346380822191844\n",
      "Evaluate model with weight 14\n"
     ]
    },
    {
     "data": {
      "image/png": "[encoded data removed]",
      "text/plain": [
       "<Figure size 248.4x153.511 with 1 Axes>"
      ]
     },
     "metadata": {
      "needs_background": "light"
     },
     "output_type": "display_data"
    },
    {
     "name": "stdout",
     "output_type": "stream",
     "text": [
      "Load:  /opt/project/data/nas/digital-twin-dnn-models/DenseGatNewSpacePbtW14-soft_overload/GatTrainable_965bc_00003/params.json\n",
      "\tBatch 0\n",
      "\tBatch 5\n",
      "0.9704375 0.771930696761043 0.9344341945013086\n",
      "Evaluate model with weight 15\n"
     ]
    },
    {
     "data": {
      "image/png": "[encoded data removed]",
      "text/plain": [
       "<Figure size 248.4x153.511 with 1 Axes>"
      ]
     },
     "metadata": {
      "needs_background": "light"
     },
     "output_type": "display_data"
    },
    {
     "name": "stdout",
     "output_type": "stream",
     "text": [
      "Load:  /opt/project/data/nas/digital-twin-dnn-models/DenseGatNewSpacePbtW15-soft_overload/GatTrainable_1dbfc_00001/params.json\n",
      "\tBatch 0\n",
      "\tBatch 5\n",
      "0.9708616917841517 0.7706388828594168 0.934058943204651\n",
      "Evaluate model with weight 16\n"
     ]
    },
    {
     "data": {
      "image/png": "[encoded data removed]",
      "text/plain": [
       "<Figure size 248.4x153.511 with 1 Axes>"
      ]
     },
     "metadata": {
      "needs_background": "light"
     },
     "output_type": "display_data"
    },
    {
     "name": "stdout",
     "output_type": "stream",
     "text": [
      "Load:  /opt/project/data/nas/digital-twin-dnn-models/DenseGatNewSpacePbtW16-soft_overload/GatTrainable_38e5e_00006/params.json\n",
      "\tBatch 0\n",
      "\tBatch 5\n",
      "0.9712630085146642 0.7693676814988291 0.9336855395251346\n",
      "Evaluate model with weight 17\n"
     ]
    },
    {
     "data": {
      "image/png": "[encoded data removed]",
      "text/plain": [
       "<Figure size 248.4x153.511 with 1 Axes>"
      ]
     },
     "metadata": {
      "needs_background": "light"
     },
     "output_type": "display_data"
    },
    {
     "name": "stdout",
     "output_type": "stream",
     "text": [
      "Load:  /opt/project/data/nas/digital-twin-dnn-models/DenseGatNewSpacePbtW17-soft_overload/GatTrainable_b2ded_00008/params.json\n",
      "\tBatch 0\n",
      "\tBatch 5\n",
      "0.9715856748042376 0.7690852741442961 0.9336361086410322\n",
      "Evaluate model with weight 18\n"
     ]
    },
    {
     "data": {
      "image/png": "[encoded data removed]",
      "text/plain": [
       "<Figure size 248.4x153.511 with 1 Axes>"
      ]
     },
     "metadata": {
      "needs_background": "light"
     },
     "output_type": "display_data"
    },
    {
     "name": "stdout",
     "output_type": "stream",
     "text": [
      "Load:  /opt/project/data/nas/digital-twin-dnn-models/DenseGatNewSpacePbtW18-soft_overload/GatTrainable_128d2_00004/params.json\n",
      "\tBatch 0\n",
      "\tBatch 5\n",
      "0.971975987432675 0.7677768175674179 0.933246103745057\n",
      "Evaluate model with weight 19\n"
     ]
    },
    {
     "data": {
      "image/png": "[encoded data removed]",
      "text/plain": [
       "<Figure size 248.4x153.511 with 1 Axes>"
      ]
     },
     "metadata": {
      "needs_background": "light"
     },
     "output_type": "display_data"
    },
    {
     "name": "stdout",
     "output_type": "stream",
     "text": [
      "Load:  /opt/project/data/nas/digital-twin-dnn-models/DenseGatNewSpacePbtW19-soft_overload/GatTrainable_cd187_00003/params.json\n",
      "\tBatch 0\n",
      "\tBatch 5\n",
      "0.9724015317286652 0.766053266678159 0.9327167879155586\n",
      "Evaluate model with weight 20\n"
     ]
    },
    {
     "data": {
      "image/png": "[encoded data removed]",
      "text/plain": [
       "<Figure size 248.4x153.511 with 1 Axes>"
      ]
     },
     "metadata": {
      "needs_background": "light"
     },
     "output_type": "display_data"
    },
    {
     "name": "stdout",
     "output_type": "stream",
     "text": [
      "Load:  /opt/project/data/nas/digital-twin-dnn-models/DenseGatNewSpacePbtW20-soft_overload/GatTrainable_e67bf_00008/params.json\n",
      "\tBatch 0\n",
      "\tBatch 5\n",
      "0.9727263023057217 0.7652579202620142 0.9324898483054692\n"
     ]
    }
   ],
   "source": [
    "dset = evpfm.GraphDataset.from_hdf5('/opt/project/data/nas/graphs-golden-samples/val-set.h5',\n",
    "                                    target='soft_overload')\n",
    "results = {}\n",
    "for weight in range(1, 21):\n",
    "    print(f\"Evaluate model with weight {weight}\")\n",
    "    loader = evpfm.DataLoader(dset, batch_size=500)\n",
    "    exp_dir = f'/opt/project/data/nas/digital-twin-dnn-models/DenseGatNewSpacePbtW{weight}-soft_overload/'\n",
    "    a = evpfm.load_tune_result(exp_dir)\n",
    "    \n",
    "    ldir = str(a.get_best_logdir(metric='val_loss', mode='min'))\n",
    "    step_results = evpfm.get_json_result_data(ldir)\n",
    "    fig, ax = plutils.get_fig(1)\n",
    "    ax.plot([a['val_loss'] for a in step_results], c=plutils.COLORS[0],\n",
    "            marker=plutils.MARKER[0], markevery=30, markeredgecolor='black',\n",
    "            markerfacecolor='white')\n",
    "    ax.set_xlabel(\"Epoch\")\n",
    "    ax.set_ylabel(\"Validation Loss\")\n",
    "    ax.set_title(f\"Weight {weight}\")\n",
    "    # ax.set_yscale('log')\n",
    "    plt.tight_layout()\n",
    "    plt.show()\n",
    "    plt.close(fig)\n",
    "    \n",
    "    model = evpfm.load_best_model(a)\n",
    "    y = np.array([])\n",
    "    z = np.array([])\n",
    "    for i, sample in enumerate(loader):\n",
    "        if i % 5 == 0:\n",
    "            print(f\"\\tBatch {i}\")\n",
    "        DEV = 'cpu'\n",
    "        with torch.no_grad():\n",
    "            prediction = model(\n",
    "                node_features=sample['node_features'].to(DEV),\n",
    "                query_idxs=sample['query_idx'].to(DEV),\n",
    "                masks=sample['masks'].to(DEV),\n",
    "                adj=sample['adj'].to(DEV)\n",
    "            )\n",
    "            prediction = torch.softmax(prediction, dim=-1)\n",
    "            y_so = np.concatenate([y_so, torch.argmax(prediction, dim=-1).numpy()])\n",
    "            z_so = np.concatenate([z_so, torch.argmax(sample['target'], dim=-1).numpy()])\n",
    "    results[weight] = {\n",
    "        'precision': skm.precision_score(y_so, z_so),\n",
    "        'recall': skm.recall_score(y_so, z_so),\n",
    "        'accuracy': skm.accuracy_score(y_so, z_so)\n",
    "    }\n",
    "    print(results[weight]['precision'], results[weight]['recall'], results[weight]['accuracy'])"
   ]
  },
  {
   "cell_type": "code",
   "execution_count": 662,
   "id": "3bdac989",
   "metadata": {},
   "outputs": [
    {
     "data": {
      "text/plain": [
       "torch.Size([399, 68, 27])"
      ]
     },
     "execution_count": 662,
     "metadata": {},
     "output_type": "execute_result"
    }
   ],
   "source": [
    "sample['node_features'].shape"
   ]
  },
  {
   "cell_type": "code",
   "execution_count": 660,
   "id": "4786d733",
   "metadata": {},
   "outputs": [
    {
     "data": {
      "text/plain": [
       "{1: {'precision': 0.9676826846703733,\n",
       "  'recall': 0.7717860395137982,\n",
       "  'accuracy': 0.9339864371198946},\n",
       " 2: {'precision': 0.9666603343465046,\n",
       "  'recall': 0.7743285399071749,\n",
       "  'accuracy': 0.9346892966842562},\n",
       " 3: {'precision': 0.9660870356882738,\n",
       "  'recall': 0.776716439759918,\n",
       "  'accuracy': 0.9353998584571833},\n",
       " 4: {'precision': 0.9659527972027973,\n",
       "  'recall': 0.7781768247596915,\n",
       "  'accuracy': 0.9358635185822748},\n",
       " 5: {'precision': 0.9662491593813046,\n",
       "  'recall': 0.7778642484942817,\n",
       "  'accuracy': 0.9358037169020589},\n",
       " 6: {'precision': 0.966523639896373,\n",
       "  'recall': 0.7784878223729256,\n",
       "  'accuracy': 0.9360504145269023},\n",
       " 7: {'precision': 0.9667785758900687,\n",
       "  'recall': 0.778528764539453,\n",
       "  'accuracy': 0.9361015124907948},\n",
       " 8: {'precision': 0.9674683353437877,\n",
       "  'recall': 0.7769503224048678,\n",
       "  'accuracy': 0.9356802375556771},\n",
       " 9: {'precision': 0.9681122448979592,\n",
       "  'recall': 0.7756204379562044,\n",
       "  'accuracy': 0.9353322907931615},\n",
       " 10: {'precision': 0.9685031038374717,\n",
       "  'recall': 0.7746931866271689,\n",
       "  'accuracy': 0.9350798432381844},\n",
       " 11: {'precision': 0.9689379442318207,\n",
       "  'recall': 0.7739232490856488,\n",
       "  'accuracy': 0.9348856319111407},\n",
       " 12: {'precision': 0.9693465005302226,\n",
       "  'recall': 0.7736517760321616,\n",
       "  'accuracy': 0.9348542928980669},\n",
       " 13: {'precision': 0.9699240864642306,\n",
       "  'recall': 0.7727575602255253,\n",
       "  'accuracy': 0.9346380822191844},\n",
       " 14: {'precision': 0.9704375,\n",
       "  'recall': 0.771930696761043,\n",
       "  'accuracy': 0.9344341945013086},\n",
       " 15: {'precision': 0.9708616917841517,\n",
       "  'recall': 0.7706388828594168,\n",
       "  'accuracy': 0.934058943204651},\n",
       " 16: {'precision': 0.9712630085146642,\n",
       "  'recall': 0.7693676814988291,\n",
       "  'accuracy': 0.9336855395251346},\n",
       " 17: {'precision': 0.9715856748042376,\n",
       "  'recall': 0.7690852741442961,\n",
       "  'accuracy': 0.9336361086410322},\n",
       " 18: {'precision': 0.971975987432675,\n",
       "  'recall': 0.7677768175674179,\n",
       "  'accuracy': 0.933246103745057},\n",
       " 19: {'precision': 0.9724015317286652,\n",
       "  'recall': 0.766053266678159,\n",
       "  'accuracy': 0.9327167879155586},\n",
       " 20: {'precision': 0.9727263023057217,\n",
       "  'recall': 0.7652579202620142,\n",
       "  'accuracy': 0.9324898483054692}}"
      ]
     },
     "execution_count": 660,
     "metadata": {},
     "output_type": "execute_result"
    }
   ],
   "source": [
    "results"
   ]
  },
  {
   "cell_type": "code",
   "execution_count": null,
   "id": "bbdde7a4",
   "metadata": {},
   "outputs": [],
   "source": []
  },
  {
   "cell_type": "code",
   "execution_count": null,
   "id": "8adcd36a",
   "metadata": {},
   "outputs": [],
   "source": []
  },
  {
   "cell_type": "markdown",
   "id": "3a838498",
   "metadata": {},
   "source": [
    "## Throughput VNF"
   ]
  },
  {
   "cell_type": "code",
   "execution_count": 699,
   "id": "273bc4a9",
   "metadata": {},
   "outputs": [
    {
     "data": {
      "text/plain": [
       "<module 'layers.vnfmodel' from '/opt/project/layers/vnfmodel.py'>"
      ]
     },
     "execution_count": 699,
     "metadata": {},
     "output_type": "execute_result"
    }
   ],
   "source": [
    "reload(evpfm)\n",
    "reload(layers.vnfmodel)"
   ]
  },
  {
   "cell_type": "code",
   "execution_count": 700,
   "id": "14e28d15",
   "metadata": {},
   "outputs": [],
   "source": [
    "a = evpfm.load_tune_result('/opt/project/data/nas/digital-twin-dnn-models/DenseGatNewSpace-vnf_throughput')"
   ]
  },
  {
   "cell_type": "code",
   "execution_count": 701,
   "id": "98bd2790",
   "metadata": {},
   "outputs": [],
   "source": [
    "ldir = str(a.get_best_logdir(metric='val_loss', mode='min'))\n",
    "exp_name = os.path.split(os.path.split(ldir)[0])[1]\n",
    "fig_dir = os.path.join('/opt/project/Graphs', exp_name)\n",
    "if not os.path.exists(fig_dir):\n",
    "    os.mkdir(fig_dir)"
   ]
  },
  {
   "cell_type": "code",
   "execution_count": 702,
   "id": "297769d3",
   "metadata": {},
   "outputs": [],
   "source": [
    "step_results = evpfm.get_json_result_data(ldir)"
   ]
  },
  {
   "cell_type": "code",
   "execution_count": 703,
   "id": "31db6aed",
   "metadata": {},
   "outputs": [
    {
     "data": {
      "image/png": "[encoded data removed]",
      "text/plain": [
       "<Figure size 248.4x153.511 with 1 Axes>"
      ]
     },
     "metadata": {
      "needs_background": "light"
     },
     "output_type": "display_data"
    }
   ],
   "source": [
    "fig, ax = plutils.get_fig(1)\n",
    "ax.plot([a['val_loss'] for a in step_results], c=plutils.COLORS[0],\n",
    "        marker=plutils.MARKER[0], markevery=30, markeredgecolor='black',\n",
    "        markerfacecolor='white')\n",
    "ax.set_xlabel(\"Epoch\")\n",
    "ax.set_ylabel(\"Validation Loss\")\n",
    "# ax.set_yscale('log')\n",
    "plt.tight_layout()\n",
    "plt.savefig(os.path.join(fig_dir, 'validation-loss.pdf'))\n",
    "plt.show()\n",
    "plt.close(fig)"
   ]
  },
  {
   "cell_type": "code",
   "execution_count": 704,
   "id": "18224c6c",
   "metadata": {},
   "outputs": [
    {
     "name": "stdout",
     "output_type": "stream",
     "text": [
      "Load:  /opt/project/data/nas/digital-twin-dnn-models/DenseGatNewSpace-vnf_throughput/GatTrainable_83837_00476/params.json\n"
     ]
    }
   ],
   "source": [
    "model = evpfm.load_best_model(a)\n",
    "dset = ds.GraphDataset.from_hdf5('/opt/project/data/nas/graphs-golden-samples/val-set.h5',\n",
    "                                    target='vnf_throughput')\n",
    "loader = evpfm.DataLoader(dset, batch_size=200, shuffle=True)"
   ]
  },
  {
   "cell_type": "raw",
   "id": "267b0e11",
   "metadata": {
    "scrolled": true
   },
   "source": [
    "y = np.array([])\n",
    "z = np.array([])\n",
    "for i, sample in enumerate(loader):\n",
    "    print(f\"Batch {i}\")\n",
    "    DEV = 'cpu'\n",
    "    with torch.no_grad():\n",
    "        prediction = model(\n",
    "            node_features=sample['node_features'].to(DEV),\n",
    "            query_idxs=sample['query_idx'].to(DEV),\n",
    "            masks=sample['masks'].to(DEV),\n",
    "            adj=sample['adj'].to(DEV)\n",
    "        )\n",
    "        y = np.concatenate([y, prediction.numpy().flatten()])\n",
    "        z = np.concatenate([z, sample['target'].numpy().flatten()])"
   ]
  },
  {
   "cell_type": "code",
   "execution_count": 614,
   "id": "a2880eaf",
   "metadata": {},
   "outputs": [],
   "source": [
    "z_sim, y_sim = evaldqn.get_simulated_rate_validation()"
   ]
  },
  {
   "cell_type": "code",
   "execution_count": 758,
   "id": "7ce6fa30",
   "metadata": {},
   "outputs": [
    {
     "data": {
      "image/png": "[encoded data removed]",
      "text/plain": [
       "<Figure size 186.3x115.133 with 1 Axes>"
      ]
     },
     "metadata": {
      "needs_background": "light"
     },
     "output_type": "display_data"
    }
   ],
   "source": [
    "fig, ax = plutils.get_fig(0.75)\n",
    "ecdf = np.cumsum(pd.Series((y-z)).value_counts(normalize=True).sort_index())\n",
    "ecdf_s = np.cumsum(pd.Series((y_sim * 0.95 - z_sim)).value_counts(normalize=True).sort_index())\n",
    "ax.plot([0, 0], [0, 1], linestyle='--', color='black', linewidth=0.5)\n",
    "ax.plot(ecdf_s.index.values, ecdf_s.values, label='ISM', color=plutils.COLORS[4], marker='o', markevery=0.15)\n",
    "ax.plot(ecdf_lr.index.values, ecdf_lr.values, label='DT\\\\textsubscript{{LinR}}', color=plutils.COLORS[1], marker='s', markevery=0.15)\n",
    "ax.plot(ecdf.index.values, ecdf.values, label='DT\\\\textsubscript{{NN}}', color=plutils.COLORS[2], marker='v', markevery=0.15)\n",
    "ax.set_xlabel(\"L1 Error [Pps]\")\n",
    "ax.set_ylabel(\"$P(X < x)$\")\n",
    "#ax.set_xticks([-2, -1, 0, 1])\n",
    "#ax.set_xticklabels([-200, -100, 0, 100])\n",
    "ax.legend(frameon=False, loc='upper left')\n",
    "plt.subplots_adjust(left=0.2, right=0.99, top=0.99, bottom=0.25)\n",
    "plt.savefig(\"/opt/project/Graphs/tnsm/l1-error-vnf_throughput.pdf\")"
   ]
  },
  {
   "cell_type": "code",
   "execution_count": 756,
   "id": "d5d08626",
   "metadata": {},
   "outputs": [],
   "source": [
    "ax.legend?"
   ]
  },
  {
   "cell_type": "code",
   "execution_count": 472,
   "id": "f88c346c",
   "metadata": {},
   "outputs": [
    {
     "data": {
      "text/plain": [
       "0.15035531150827547"
      ]
     },
     "execution_count": 472,
     "metadata": {},
     "output_type": "execute_result"
    }
   ],
   "source": [
    "np.mean(np.abs(z_sim-y_sim*0.95) / z_sim)"
   ]
  },
  {
   "cell_type": "code",
   "execution_count": 474,
   "id": "5929516b",
   "metadata": {},
   "outputs": [
    {
     "data": {
      "text/plain": [
       "0.02531117914514932"
      ]
     },
     "execution_count": 474,
     "metadata": {},
     "output_type": "execute_result"
    }
   ],
   "source": [
    "np.mean(np.abs(z-y) / z)"
   ]
  },
  {
   "cell_type": "code",
   "execution_count": 440,
   "id": "d41ae42a",
   "metadata": {},
   "outputs": [
    {
     "data": {
      "text/plain": [
       "<module 'layers.vnfmodel' from '/opt/project/layers/vnfmodel.py'>"
      ]
     },
     "execution_count": 440,
     "metadata": {},
     "output_type": "execute_result"
    }
   ],
   "source": [
    "reload(grutils)\n",
    "reload(evaldqn)\n",
    "reload(ds)\n",
    "reload(vnfmod)"
   ]
  },
  {
   "cell_type": "markdown",
   "id": "1c889d16",
   "metadata": {},
   "source": [
    "## Throughput SFC"
   ]
  },
  {
   "cell_type": "code",
   "execution_count": 441,
   "id": "04369d4d",
   "metadata": {
    "collapsed": true
   },
   "outputs": [
    {
     "ename": "ValueError",
     "evalue": "/opt/project/data/nas/digital-twin-dnn-models/DenseGatNewSpace-sfc_throughput is not a valid directory.",
     "output_type": "error",
     "traceback": [
      "\u001b[0;31m---------------------------------------------------------------------------\u001b[0m",
      "\u001b[0;31mValueError\u001b[0m                                Traceback (most recent call last)",
      "\u001b[0;32m/tmp/ipykernel_60/981977414.py\u001b[0m in \u001b[0;36m<module>\u001b[0;34m\u001b[0m\n\u001b[0;32m----> 1\u001b[0;31m \u001b[0ma\u001b[0m \u001b[0;34m=\u001b[0m \u001b[0mevpfm\u001b[0m\u001b[0;34m.\u001b[0m\u001b[0mload_tune_result\u001b[0m\u001b[0;34m(\u001b[0m\u001b[0;34m'/opt/project/data/nas/digital-twin-dnn-models/DenseGatNewSpace-sfc_throughput'\u001b[0m\u001b[0;34m)\u001b[0m\u001b[0;34m\u001b[0m\u001b[0;34m\u001b[0m\u001b[0m\n\u001b[0m",
      "\u001b[0;32m/opt/project/scripts/eval_perfmodel.py\u001b[0m in \u001b[0;36mload_tune_result\u001b[0;34m(exp_dir)\u001b[0m\n\u001b[1;32m     16\u001b[0m \u001b[0;34m\u001b[0m\u001b[0m\n\u001b[1;32m     17\u001b[0m \u001b[0;32mdef\u001b[0m \u001b[0mload_tune_result\u001b[0m\u001b[0;34m(\u001b[0m\u001b[0mexp_dir\u001b[0m\u001b[0;34m:\u001b[0m \u001b[0mstr\u001b[0m\u001b[0;34m)\u001b[0m \u001b[0;34m->\u001b[0m \u001b[0mAnalysis\u001b[0m\u001b[0;34m:\u001b[0m\u001b[0;34m\u001b[0m\u001b[0;34m\u001b[0m\u001b[0m\n\u001b[0;32m---> 18\u001b[0;31m     \u001b[0mana\u001b[0m \u001b[0;34m=\u001b[0m \u001b[0mAnalysis\u001b[0m\u001b[0;34m(\u001b[0m\u001b[0mexp_dir\u001b[0m\u001b[0;34m)\u001b[0m\u001b[0;34m\u001b[0m\u001b[0;34m\u001b[0m\u001b[0m\n\u001b[0m\u001b[1;32m     19\u001b[0m     \u001b[0;32mreturn\u001b[0m \u001b[0mana\u001b[0m\u001b[0;34m\u001b[0m\u001b[0;34m\u001b[0m\u001b[0m\n\u001b[1;32m     20\u001b[0m \u001b[0;34m\u001b[0m\u001b[0m\n",
      "\u001b[0;32m/opt/conda/lib/python3.8/site-packages/ray/tune/analysis/experiment_analysis.py\u001b[0m in \u001b[0;36m__init__\u001b[0;34m(self, experiment_dir, default_metric, default_mode, file_type)\u001b[0m\n\u001b[1;32m     58\u001b[0m         \u001b[0mexperiment_dir\u001b[0m \u001b[0;34m=\u001b[0m \u001b[0mos\u001b[0m\u001b[0;34m.\u001b[0m\u001b[0mpath\u001b[0m\u001b[0;34m.\u001b[0m\u001b[0mexpanduser\u001b[0m\u001b[0;34m(\u001b[0m\u001b[0mexperiment_dir\u001b[0m\u001b[0;34m)\u001b[0m\u001b[0;34m\u001b[0m\u001b[0;34m\u001b[0m\u001b[0m\n\u001b[1;32m     59\u001b[0m         \u001b[0;32mif\u001b[0m \u001b[0;32mnot\u001b[0m \u001b[0mos\u001b[0m\u001b[0;34m.\u001b[0m\u001b[0mpath\u001b[0m\u001b[0;34m.\u001b[0m\u001b[0misdir\u001b[0m\u001b[0;34m(\u001b[0m\u001b[0mexperiment_dir\u001b[0m\u001b[0;34m)\u001b[0m\u001b[0;34m:\u001b[0m\u001b[0;34m\u001b[0m\u001b[0;34m\u001b[0m\u001b[0m\n\u001b[0;32m---> 60\u001b[0;31m             raise ValueError(\n\u001b[0m\u001b[1;32m     61\u001b[0m                 \"{} is not a valid directory.\".format(experiment_dir))\n\u001b[1;32m     62\u001b[0m         \u001b[0mself\u001b[0m\u001b[0;34m.\u001b[0m\u001b[0m_experiment_dir\u001b[0m \u001b[0;34m=\u001b[0m \u001b[0mexperiment_dir\u001b[0m\u001b[0;34m\u001b[0m\u001b[0;34m\u001b[0m\u001b[0m\n",
      "\u001b[0;31mValueError\u001b[0m: /opt/project/data/nas/digital-twin-dnn-models/DenseGatNewSpace-sfc_throughput is not a valid directory."
     ]
    }
   ],
   "source": [
    "a = evpfm.load_tune_result('/opt/project/data/nas/digital-twin-dnn-models/DenseGatNewSpace-sfc_throughput')"
   ]
  },
  {
   "cell_type": "code",
   "execution_count": 197,
   "id": "a66a933a",
   "metadata": {},
   "outputs": [],
   "source": [
    "ldir = str(a.get_best_logdir(metric='val_loss', mode='min'))\n",
    "exp_name = os.path.split(os.path.split(ldir)[0])[1]\n",
    "fig_dir = os.path.join('/opt/project/Graphs', exp_name)\n",
    "if not os.path.exists(fig_dir):\n",
    "    os.mkdir(fig_dir)"
   ]
  },
  {
   "cell_type": "code",
   "execution_count": 198,
   "id": "c36bba1d",
   "metadata": {},
   "outputs": [],
   "source": [
    "step_results = evpfm.get_json_result_data(ldir)"
   ]
  },
  {
   "cell_type": "code",
   "execution_count": 199,
   "id": "064173ec",
   "metadata": {},
   "outputs": [
    {
     "data": {
      "image/png": "[encoded data removed]",
      "text/plain": [
       "<Figure size 248.4x153.511 with 1 Axes>"
      ]
     },
     "metadata": {
      "needs_background": "light"
     },
     "output_type": "display_data"
    }
   ],
   "source": [
    "fig, ax = plutils.get_fig(1)\n",
    "ax.plot([a['val_loss'] for a in step_results], c=plutils.COLORS[0],\n",
    "        marker=plutils.MARKER[0], markevery=30, markeredgecolor='black',\n",
    "        markerfacecolor='white')\n",
    "ax.set_xlabel(\"Epoch\")\n",
    "ax.set_ylabel(\"Validation Loss\")\n",
    "# ax.set_yscale('log')\n",
    "plt.tight_layout()\n",
    "plt.savefig(os.path.join(fig_dir, 'validation-loss.pdf'))\n",
    "plt.show()\n",
    "plt.close(fig)"
   ]
  },
  {
   "cell_type": "code",
   "execution_count": 231,
   "id": "06ac2f65",
   "metadata": {},
   "outputs": [],
   "source": [
    "model = evpfm.load_best_model(a)\n",
    "dset = evpfm.GraphDataset.from_hdf5('/opt/project/data/nas/graphs-golden-samples/val-set.h5',\n",
    "                                    target='sfc_throughput')\n",
    "loader = evpfm.DataLoader(dset, batch_size=200, shuffle=True)"
   ]
  },
  {
   "cell_type": "code",
   "execution_count": 232,
   "id": "b4a70dd6",
   "metadata": {},
   "outputs": [
    {
     "name": "stdout",
     "output_type": "stream",
     "text": [
      "Batch 0\n",
      "Batch 1\n",
      "Batch 2\n",
      "Batch 3\n",
      "Batch 4\n",
      "Batch 5\n"
     ]
    }
   ],
   "source": [
    "y = np.array([])\n",
    "z = np.array([])\n",
    "for i, sample in enumerate(loader):\n",
    "    print(f\"Batch {i}\")\n",
    "    DEV = 'cpu'\n",
    "    with torch.no_grad():\n",
    "        prediction = model(\n",
    "            node_features=sample['node_features'].to(DEV),\n",
    "            query_idxs=sample['query_idx'].to(DEV),\n",
    "            masks=sample['masks'].to(DEV),\n",
    "            adj=sample['adj'].to(DEV)\n",
    "        )\n",
    "        prediction = torch.softmax(prediction, dim=-1)\n",
    "        y = np.concatenate([y, prediction.numpy().flatten() * model.config.nn_scale])\n",
    "        z = np.concatenate([z, sample['target'].numpy().flatten()])"
   ]
  },
  {
   "cell_type": "code",
   "execution_count": 234,
   "id": "60e4e1af",
   "metadata": {},
   "outputs": [
    {
     "data": {
      "text/plain": [
       "array([171877.140625, 289277.8125  ,  87463.40625 , ..., 660914.875   ,\n",
       "       292820.9375  , 992250.6875  ])"
      ]
     },
     "execution_count": 234,
     "metadata": {},
     "output_type": "execute_result"
    }
   ],
   "source": [
    "z"
   ]
  },
  {
   "cell_type": "markdown",
   "id": "47d652c7",
   "metadata": {},
   "source": [
    "## Latency"
   ]
  },
  {
   "cell_type": "code",
   "execution_count": 442,
   "id": "cf026f93",
   "metadata": {},
   "outputs": [],
   "source": [
    "a = evpfm.load_tune_result('/opt/project/data/nas/digital-twin-dnn-models/DenseGatNewSpace-sfc_latency')"
   ]
  },
  {
   "cell_type": "code",
   "execution_count": 443,
   "id": "53dc310c",
   "metadata": {},
   "outputs": [],
   "source": [
    "ldir = str(a.get_best_logdir(metric='val_loss', mode='min'))\n",
    "exp_name = os.path.split(os.path.split(ldir)[0])[1]\n",
    "fig_dir = os.path.join('/opt/project/Graphs', exp_name)\n",
    "if not os.path.exists(fig_dir):\n",
    "    os.mkdir(fig_dir)"
   ]
  },
  {
   "cell_type": "code",
   "execution_count": 444,
   "id": "7e66d46d",
   "metadata": {},
   "outputs": [],
   "source": [
    "step_results = evpfm.get_json_result_data(ldir)"
   ]
  },
  {
   "cell_type": "code",
   "execution_count": 445,
   "id": "c84cfa0a",
   "metadata": {},
   "outputs": [
    {
     "data": {
      "image/png": "[encoded data removed]",
      "text/plain": [
       "<Figure size 248.4x153.511 with 1 Axes>"
      ]
     },
     "metadata": {
      "needs_background": "light"
     },
     "output_type": "display_data"
    }
   ],
   "source": [
    "fig, ax = plutils.get_fig(1)\n",
    "ax.plot([a['val_loss'] for a in step_results], c=plutils.COLORS[0],\n",
    "        marker=plutils.MARKER[0], markevery=30, markeredgecolor='black',\n",
    "        markerfacecolor='white')\n",
    "ax.set_xlabel(\"Epoch\")\n",
    "ax.set_ylabel(\"Validation Loss\")\n",
    "# ax.set_yscale('log')\n",
    "plt.tight_layout()\n",
    "plt.savefig(os.path.join(fig_dir, 'validation-loss.pdf'))\n",
    "plt.show()\n",
    "plt.close(fig)"
   ]
  },
  {
   "cell_type": "code",
   "execution_count": 447,
   "id": "22ae1859",
   "metadata": {},
   "outputs": [
    {
     "name": "stdout",
     "output_type": "stream",
     "text": [
      "Load:  /opt/project/data/nas/digital-twin-dnn-models/DenseGatNewSpace-sfc_latency/GatTrainable_2e030_00035/params.json\n"
     ]
    }
   ],
   "source": [
    "model = evpfm.load_best_model(a)\n",
    "dset = ds.GraphDataset.from_hdf5('/opt/project/data/nas/graphs-golden-samples/val-set.h5',\n",
    "                                    target='sfc_latency')\n",
    "loader = evpfm.DataLoader(dset, batch_size=200, shuffle=True)"
   ]
  },
  {
   "cell_type": "code",
   "execution_count": 448,
   "id": "8e65f57e",
   "metadata": {},
   "outputs": [
    {
     "name": "stdout",
     "output_type": "stream",
     "text": [
      "Batch 0\n",
      "Batch 1\n",
      "Batch 2\n",
      "Batch 3\n",
      "Batch 4\n",
      "Batch 5\n"
     ]
    }
   ],
   "source": [
    "y = np.array([])\n",
    "z = np.array([])\n",
    "for i, sample in enumerate(loader):\n",
    "    print(f\"Batch {i}\")\n",
    "    DEV = 'cpu'\n",
    "    with torch.no_grad():\n",
    "        prediction = model(\n",
    "            node_features=sample['node_features'].to(DEV),\n",
    "            query_idxs=sample['query_idx'].to(DEV),\n",
    "            masks=sample['masks'].to(DEV),\n",
    "            adj=sample['adj'].to(DEV)\n",
    "        )\n",
    "        y = np.concatenate([y, prediction.numpy().flatten()])\n",
    "        z = np.concatenate([z, sample['target'].numpy().flatten()])"
   ]
  },
  {
   "cell_type": "code",
   "execution_count": 456,
   "id": "d0f025f5",
   "metadata": {},
   "outputs": [
    {
     "data": {
      "text/plain": [
       "<matplotlib.legend.Legend at 0x7f4437189310>"
      ]
     },
     "execution_count": 456,
     "metadata": {},
     "output_type": "execute_result"
    },
    {
     "data": {
      "image/png": "[encoded data removed]",
      "text/plain": [
       "<Figure size 432x288 with 1 Axes>"
      ]
     },
     "metadata": {
      "needs_background": "light"
     },
     "output_type": "display_data"
    }
   ],
   "source": [
    "ax = plt.subplot()\n",
    "ecdf = np.cumsum(pd.Series(z).value_counts(normalize=True).sort_index())\n",
    "ax.plot(ecdf.index.values, ecdf.values, label='GT')\n",
    "ecdf = np.cumsum(pd.Series(y).value_counts(normalize=True).sort_index())\n",
    "ax.plot(ecdf.index.values, ecdf.values, label='NN')\n",
    "plt.legend(frameon=False)"
   ]
  },
  {
   "cell_type": "code",
   "execution_count": 451,
   "id": "eeb9324b",
   "metadata": {},
   "outputs": [],
   "source": [
    "z, y = np.exp(z), np.exp(y)"
   ]
  },
  {
   "cell_type": "code",
   "execution_count": 455,
   "id": "05486dbc",
   "metadata": {},
   "outputs": [
    {
     "data": {
      "image/png": "[encoded data removed]",
      "text/plain": [
       "<Figure size 163.944x101.317 with 1 Axes>"
      ]
     },
     "metadata": {
      "needs_background": "light"
     },
     "output_type": "display_data"
    }
   ],
   "source": [
    "ecdf = np.cumsum(pd.Series((z - y)).value_counts(normalize=True).sort_index())\n",
    "fig, ax = plutils.get_fig(0.66)\n",
    "ax.plot([0, 0], [0, 1], linestyle='--', color='black', linewidth=0.5)\n",
    "ax.plot(ecdf.index.values, ecdf.values, label='DT')\n",
    "ax.set_xlabel(\"L1 Error [ms]\")\n",
    "ax.set_ylabel(\"P(X<x)\")\n",
    "#ax.set_xticks([-2, -1, 0, 1])\n",
    "#ax.set_xticklabels([-200, -100, 0, 100])\n",
    "ax.legend(frameon=False)\n",
    "plt.tight_layout()\n",
    "plt.savefig(\"/opt/project/Graphs/l1-error-sfc_latency.pdf\")"
   ]
  },
  {
   "cell_type": "code",
   "execution_count": null,
   "id": "9b2b9a9f",
   "metadata": {},
   "outputs": [],
   "source": []
  },
  {
   "cell_type": "markdown",
   "id": "7cbeef6b",
   "metadata": {},
   "source": [
    "# ----"
   ]
  },
  {
   "cell_type": "code",
   "execution_count": 406,
   "id": "2947083b",
   "metadata": {},
   "outputs": [],
   "source": [
    "with open('/opt/project/Net/TuneVnfPlayerCpuOnlyCpuRatios80BinPackingOneOverNLogRegGoldenSamples/b342c_00004/params.json', 'r') as fh:\n",
    "    config = json.load(fh)"
   ]
  },
  {
   "cell_type": "code",
   "execution_count": 468,
   "id": "c28bf77a",
   "metadata": {
    "scrolled": true
   },
   "outputs": [
    {
     "data": {
      "text/plain": [
       "{'_disable_preprocessor_api': False,\n",
       " '_fake_gpus': False,\n",
       " '_tf_policy_handles_more_than_one_loss': False,\n",
       " 'action_space': None,\n",
       " 'actions_in_input_normalized': False,\n",
       " 'adam_epsilon': 1e-08,\n",
       " 'batch_mode': 'truncate_episodes',\n",
       " 'before_learn_on_batch': None,\n",
       " 'buffer_size': 760000,\n",
       " 'callbacks': \"<class 'ray.rllib.agents.callbacks.DefaultCallbacks'>\",\n",
       " 'clip_actions': False,\n",
       " 'clip_rewards': None,\n",
       " 'collect_metrics_timeout': 180,\n",
       " 'compress_observations': False,\n",
       " 'create_env_on_driver': False,\n",
       " 'custom_eval_function': None,\n",
       " 'custom_resources_per_worker': {},\n",
       " 'double_q': True,\n",
       " 'dueling': True,\n",
       " 'eager_tracing': False,\n",
       " 'env': 'ONVMVnfPlayerEnv',\n",
       " 'env_config': {'cycles_per_second': 2200000000.0,\n",
       "  'load_level': 0.8,\n",
       "  'machine_count': 21,\n",
       "  'max_vnfs': 32,\n",
       "  'max_vnfs_per_sfc': 8,\n",
       "  'min_vnfs': 5,\n",
       "  'num_of_sfcs': 5,\n",
       "  'overload_model_class': 'LogRegActor',\n",
       "  'overload_model_path': {'LogRegActor': 'static',\n",
       "   'None': None,\n",
       "   'PerfModelActor': '/model/does/not/exist',\n",
       "   'RandomForestActor': '/opt/project/rf_soft.model'},\n",
       "  'overload_prediction': True,\n",
       "  'problem_generator': 'GoldenSampleGenerator',\n",
       "  'rate': 5000000.0,\n",
       "  'reward_factor': 1.0,\n",
       "  'reward_fct': 'bin_packing_cfs',\n",
       "  'seed': 1},\n",
       " 'env_task_fn': None,\n",
       " 'evaluation_config': {'env_config': {'evaluation': True,\n",
       "   'evaluation_seed': 1},\n",
       "  'explore': False},\n",
       " 'evaluation_interval': 1000,\n",
       " 'evaluation_num_episodes': 100,\n",
       " 'evaluation_num_workers': 0,\n",
       " 'evaluation_parallel_to_training': False,\n",
       " 'exploration_config': {'epsilon_timesteps': 531901,\n",
       "  'final_epsilon': 0.05,\n",
       "  'initial_epsilon': 1.0,\n",
       "  'type': 'EpsilonGreedy'},\n",
       " 'explore': True,\n",
       " 'extra_python_environs_for_driver': {},\n",
       " 'extra_python_environs_for_worker': {},\n",
       " 'fake_sampler': False,\n",
       " 'final_prioritized_replay_beta': 0.4,\n",
       " 'framework': 'torch',\n",
       " 'gamma': 0.99,\n",
       " 'grad_clip': 40,\n",
       " 'hiddens': [71],\n",
       " 'horizon': None,\n",
       " 'ignore_worker_failures': False,\n",
       " 'in_evaluation': False,\n",
       " 'input': 'sampler',\n",
       " 'input_config': {},\n",
       " 'input_evaluation': ['is', 'wis'],\n",
       " 'learning_starts': 100,\n",
       " 'local_tf_session_args': {'inter_op_parallelism_threads': 8,\n",
       "  'intra_op_parallelism_threads': 8},\n",
       " 'log_level': 'WARN',\n",
       " 'log_sys_usage': True,\n",
       " 'logger_config': None,\n",
       " 'lr': 0.000879,\n",
       " 'lr_schedule': None,\n",
       " 'metrics_smoothing_episodes': 100,\n",
       " 'min_iter_time_s': 1,\n",
       " 'model': {'custom_model': 'CPUPlayerDQNModel',\n",
       "  'custom_model_config': {'cpu_embd': {'dim_out': 8, 'hiddens': [102, 75, 94]},\n",
       "   'mha_vnf': {'dim_attn_hidden': 26,\n",
       "    'dim_attn_kv': 3,\n",
       "    'dim_attn_out': 26,\n",
       "    'dim_attn_q': 3,\n",
       "    'dim_fcn': 20,\n",
       "    'num_attn_heads': 3},\n",
       "   'q_hiddens': [52]}},\n",
       " 'monitor': -1,\n",
       " 'multiagent': {'policies': {'all-tx': [None,\n",
       "    'Box([[-1.e+09 -1.e+09 -1.e+09 -1.e+09 -1.e+09 -1.e+09 -1.e+09 -1.e+09 -1.e+09\\n  -1.e+09 -1.e+09 -1.e+09 -1.e+09 -1.e+09 -1.e+09 -1.e+09 -1.e+09 -1.e+09\\n  -1.e+09 -1.e+09 -1.e+09 -1.e+09 -1.e+09 -1.e+09 -1.e+09 -1.e+09 -1.e+09\\n  -1.e+09 -1.e+09 -1.e+09 -1.e+09 -1.e+09 -1.e+09 -1.e+09 -1.e+09 -1.e+09\\n  -1.e+09 -1.e+09 -1.e+09 -1.e+09 -1.e+09 -1.e+09 -1.e+09 -1.e+09 -1.e+09\\n  -1.e+09 -1.e+09 -1.e+09 -1.e+09 -1.e+09 -1.e+09 -1.e+09 -1.e+09 -1.e+09\\n  -1.e+09 -1.e+09 -1.e+09 -1.e+09 -1.e+09 -1.e+09 -1.e+09 -1.e+09 -1.e+09\\n  -1.e+09 -1.e+09 -1.e+09 -1.e+09 -1.e+09 -1.e+09 -1.e+09 -1.e+09 -1.e+09\\n  -1.e+09 -1.e+09 -1.e+09 -1.e+09 -1.e+09 -1.e+09 -1.e+09 -1.e+09 -1.e+09\\n  -1.e+09 -1.e+09 -1.e+09 -1.e+09 -1.e+09 -1.e+09 -1.e+09 -1.e+09 -1.e+09\\n  -1.e+09 -1.e+09 -1.e+09 -1.e+09 -1.e+09 -1.e+09 -1.e+09 -1.e+09 -1.e+09\\n  -1.e+09 -1.e+09 -1.e+09 -1.e+09 -1.e+09 -1.e+09 -1.e+09 -1.e+09 -1.e+09\\n  -1.e+09 -1.e+09 -1.e+09 -1.e+09 -1.e+09 -1.e+09 -1.e+09 -1.e+09 -1.e+09\\n  -1.e+09 -1.e+09 -1.e+09 -1.e+09 -1.e+09 -1.e+09 -1.e+09 -1.e+09 -1.e+09\\n  -1.e+09 -1.e+09 -1.e+09 -1.e+09 -1.e+09 -1.e+09 -1.e+09 -1.e+09 -1.e+09\\n  -1.e+09 -1.e+09 -1.e+09 -1.e+09 -1.e+09 -1.e+09 -1.e+09 -1.e+09 -1.e+09\\n  -1.e+09 -1.e+09 -1.e+09 -1.e+09 -1.e+09 -1.e+09 -1.e+09 -1.e+09 -1.e+09\\n  -1.e+09 -1.e+09 -1.e+09 -1.e+09 -1.e+09 -1.e+09 -1.e+09 -1.e+09 -1.e+09\\n  -1.e+09 -1.e+09 -1.e+09 -1.e+09 -1.e+09 -1.e+09 -1.e+09 -1.e+09 -1.e+09\\n  -1.e+09 -1.e+09 -1.e+09 -1.e+09 -1.e+09 -1.e+09 -1.e+09 -1.e+09 -1.e+09\\n  -1.e+09 -1.e+09 -1.e+09 -1.e+09 -1.e+09 -1.e+09 -1.e+09 -1.e+09 -1.e+09\\n  -1.e+09 -1.e+09 -1.e+09 -1.e+09 -1.e+09 -1.e+09 -1.e+09 -1.e+09 -1.e+09\\n  -1.e+09 -1.e+09 -1.e+09 -1.e+09 -1.e+09 -1.e+09 -1.e+09 -1.e+09 -1.e+09\\n  -1.e+09 -1.e+09 -1.e+09 -1.e+09 -1.e+09 -1.e+09 -1.e+09 -1.e+09 -1.e+09\\n  -1.e+09 -1.e+09 -1.e+09 -1.e+09 -1.e+09 -1.e+09 -1.e+09 -1.e+09 -1.e+09\\n  -1.e+09 -1.e+09 -1.e+09 -1.e+09 -1.e+09 -1.e+09 -1.e+09 -1.e+09 -1.e+09\\n  -1.e+09 -1.e+09 -1.e+09 -1.e+09 -1.e+09 -1.e+09 -1.e+09 -1.e+09 -1.e+09\\n  -1.e+09 -1.e+09 -1.e+09 -1.e+09 -1.e+09 -1.e+09 -1.e+09 -1.e+09 -1.e+09\\n  -1.e+09 -1.e+09 -1.e+09 -1.e+09 -1.e+09 -1.e+09 -1.e+09 -1.e+09 -1.e+09\\n  -1.e+09 -1.e+09 -1.e+09 -1.e+09 -1.e+09 -1.e+09 -1.e+09 -1.e+09 -1.e+09\\n  -1.e+09 -1.e+09 -1.e+09 -1.e+09 -1.e+09]], [[1.e+09 1.e+09 1.e+09 1.e+09 1.e+09 1.e+09 1.e+09 1.e+09 1.e+09 1.e+09\\n  1.e+09 1.e+09 1.e+09 1.e+09 1.e+09 1.e+09 1.e+09 1.e+09 1.e+09 1.e+09\\n  1.e+09 1.e+09 1.e+09 1.e+09 1.e+09 1.e+09 1.e+09 1.e+09 1.e+09 1.e+09\\n  1.e+09 1.e+09 1.e+09 1.e+09 1.e+09 1.e+09 1.e+09 1.e+09 1.e+09 1.e+09\\n  1.e+09 1.e+09 1.e+09 1.e+09 1.e+09 1.e+09 1.e+09 1.e+09 1.e+09 1.e+09\\n  1.e+09 1.e+09 1.e+09 1.e+09 1.e+09 1.e+09 1.e+09 1.e+09 1.e+09 1.e+09\\n  1.e+09 1.e+09 1.e+09 1.e+09 1.e+09 1.e+09 1.e+09 1.e+09 1.e+09 1.e+09\\n  1.e+09 1.e+09 1.e+09 1.e+09 1.e+09 1.e+09 1.e+09 1.e+09 1.e+09 1.e+09\\n  1.e+09 1.e+09 1.e+09 1.e+09 1.e+09 1.e+09 1.e+09 1.e+09 1.e+09 1.e+09\\n  1.e+09 1.e+09 1.e+09 1.e+09 1.e+09 1.e+09 1.e+09 1.e+09 1.e+09 1.e+09\\n  1.e+09 1.e+09 1.e+09 1.e+09 1.e+09 1.e+09 1.e+09 1.e+09 1.e+09 1.e+09\\n  1.e+09 1.e+09 1.e+09 1.e+09 1.e+09 1.e+09 1.e+09 1.e+09 1.e+09 1.e+09\\n  1.e+09 1.e+09 1.e+09 1.e+09 1.e+09 1.e+09 1.e+09 1.e+09 1.e+09 1.e+09\\n  1.e+09 1.e+09 1.e+09 1.e+09 1.e+09 1.e+09 1.e+09 1.e+09 1.e+09 1.e+09\\n  1.e+09 1.e+09 1.e+09 1.e+09 1.e+09 1.e+09 1.e+09 1.e+09 1.e+09 1.e+09\\n  1.e+09 1.e+09 1.e+09 1.e+09 1.e+09 1.e+09 1.e+09 1.e+09 1.e+09 1.e+09\\n  1.e+09 1.e+09 1.e+09 1.e+09 1.e+09 1.e+09 1.e+09 1.e+09 1.e+09 1.e+09\\n  1.e+09 1.e+09 1.e+09 1.e+09 1.e+09 1.e+09 1.e+09 1.e+09 1.e+09 1.e+09\\n  1.e+09 1.e+09 1.e+09 1.e+09 1.e+09 1.e+09 1.e+09 1.e+09 1.e+09 1.e+09\\n  1.e+09 1.e+09 1.e+09 1.e+09 1.e+09 1.e+09 1.e+09 1.e+09 1.e+09 1.e+09\\n  1.e+09 1.e+09 1.e+09 1.e+09 1.e+09 1.e+09 1.e+09 1.e+09 1.e+09 1.e+09\\n  1.e+09 1.e+09 1.e+09 1.e+09 1.e+09 1.e+09 1.e+09 1.e+09 1.e+09 1.e+09\\n  1.e+09 1.e+09 1.e+09 1.e+09 1.e+09 1.e+09 1.e+09 1.e+09 1.e+09 1.e+09\\n  1.e+09 1.e+09 1.e+09 1.e+09 1.e+09 1.e+09 1.e+09 1.e+09 1.e+09 1.e+09\\n  1.e+09 1.e+09 1.e+09 1.e+09 1.e+09 1.e+09 1.e+09 1.e+09 1.e+09 1.e+09\\n  1.e+09 1.e+09 1.e+09 1.e+09 1.e+09 1.e+09 1.e+09 1.e+09 1.e+09 1.e+09\\n  1.e+09 1.e+09 1.e+09 1.e+09 1.e+09 1.e+09 1.e+09 1.e+09 1.e+09 1.e+09\\n  1.e+09 1.e+09 1.e+09 1.e+09 1.e+09]], (1, 275), float32)',\n",
       "    'Discrete(16)',\n",
       "    {}]},\n",
       "  'policy_mapping_fn': '<function setup_train_twinq2.<locals>.<lambda> at 0x7f21e2de6280>'},\n",
       " 'n_step': 1,\n",
       " 'no_done_at_end': False,\n",
       " 'noisy': False,\n",
       " 'normalize_actions': False,\n",
       " 'num_atoms': 1,\n",
       " 'num_cpus_for_driver': 1,\n",
       " 'num_cpus_per_worker': 1,\n",
       " 'num_envs_per_worker': 625,\n",
       " 'num_gpus': 0,\n",
       " 'num_gpus_per_worker': 0,\n",
       " 'num_workers': 8,\n",
       " 'observation_filter': 'NoFilter',\n",
       " 'observation_space': None,\n",
       " 'optimizer': {},\n",
       " 'output': None,\n",
       " 'output_compress_columns': ['obs', 'new_obs'],\n",
       " 'output_max_file_size': 67108864,\n",
       " 'placement_strategy': 'PACK',\n",
       " 'postprocess_inputs': False,\n",
       " 'preprocessor_pref': 'deepmind',\n",
       " 'prioritized_replay': True,\n",
       " 'prioritized_replay_alpha': 0.6,\n",
       " 'prioritized_replay_beta': 0.4,\n",
       " 'prioritized_replay_beta_annealing_timesteps': 20000,\n",
       " 'prioritized_replay_eps': 1e-06,\n",
       " 'record_env': False,\n",
       " 'remote_env_batch_wait_ms': 0,\n",
       " 'remote_worker_envs': False,\n",
       " 'render_env': False,\n",
       " 'replay_sequence_length': 1,\n",
       " 'rollout_fragment_length': 4,\n",
       " 'sample_async': False,\n",
       " 'sample_collector': \"<class 'ray.rllib.evaluation.collectors.simple_list_collector.SimpleListCollector'>\",\n",
       " 'seed': None,\n",
       " 'shuffle_buffer_size': 0,\n",
       " 'sigma0': 0.5,\n",
       " 'simple_optimizer': -1,\n",
       " 'soft_horizon': False,\n",
       " 'store_buffer_in_checkpoints': False,\n",
       " 'synchronize_filters': True,\n",
       " 'target_network_update_freq': 500,\n",
       " 'tf_session_args': {'allow_soft_placement': True,\n",
       "  'device_count': {'CPU': 1},\n",
       "  'gpu_options': {'allow_growth': True},\n",
       "  'inter_op_parallelism_threads': 2,\n",
       "  'intra_op_parallelism_threads': 2,\n",
       "  'log_device_placement': False},\n",
       " 'timesteps_per_iteration': 1000,\n",
       " 'train_batch_size': 379,\n",
       " 'training_intensity': None,\n",
       " 'v_max': 10.0,\n",
       " 'v_min': -10.0,\n",
       " 'worker_side_prioritization': False}"
      ]
     },
     "execution_count": 468,
     "metadata": {},
     "output_type": "execute_result"
    }
   ],
   "source": [
    "config"
   ]
  },
  {
   "cell_type": "code",
   "execution_count": 409,
   "id": "78cb50eb",
   "metadata": {},
   "outputs": [
    {
     "data": {
      "text/plain": [
       "{'custom_model': 'CPUPlayerDQNModel',\n",
       " 'custom_model_config': {'cpu_embd': {'dim_out': 8, 'hiddens': [102, 75, 94]},\n",
       "  'mha_vnf': {'dim_attn_hidden': 26,\n",
       "   'dim_attn_kv': 3,\n",
       "   'dim_attn_out': 26,\n",
       "   'dim_attn_q': 3,\n",
       "   'dim_fcn': 20,\n",
       "   'num_attn_heads': 3},\n",
       "  'q_hiddens': [52]}}"
      ]
     },
     "execution_count": 409,
     "metadata": {},
     "output_type": "execute_result"
    }
   ],
   "source": [
    "config['model']"
   ]
  },
  {
   "cell_type": "code",
   "execution_count": 410,
   "id": "56b4b466",
   "metadata": {},
   "outputs": [
    {
     "data": {
      "text/plain": [
       "27635"
      ]
     },
     "execution_count": 410,
     "metadata": {},
     "output_type": "execute_result"
    }
   ],
   "source": [
    "3*(3*26+26) + 3*36*20+20 + 8*102+102 + 102*75+75 + 75*94+94 + 94*8+8 + (16*8+20)*52+52 + 52*16+16"
   ]
  },
  {
   "cell_type": "markdown",
   "id": "519595c0",
   "metadata": {},
   "source": [
    "Network should have 27 635 parameters corresponding to 108 Kb"
   ]
  },
  {
   "cell_type": "code",
   "execution_count": 411,
   "id": "5c1805ab",
   "metadata": {},
   "outputs": [
    {
     "data": {
      "text/plain": [
       "107.9609375"
      ]
     },
     "execution_count": 411,
     "metadata": {},
     "output_type": "execute_result"
    }
   ],
   "source": [
    "27638*4/1024"
   ]
  },
  {
   "cell_type": "code",
   "execution_count": null,
   "id": "418391b1",
   "metadata": {},
   "outputs": [],
   "source": []
  }
 ],
 "metadata": {
  "kernelspec": {
   "display_name": "Python 3 (ipykernel)",
   "language": "python",
   "name": "python3"
  },
  "language_info": {
   "codemirror_mode": {
    "name": "ipython",
    "version": 3
   },
   "file_extension": ".py",
   "mimetype": "text/x-python",
   "name": "python",
   "nbconvert_exporter": "python",
   "pygments_lexer": "ipython3",
   "version": "3.8.8"
  }
 },
 "nbformat": 4,
 "nbformat_minor": 5
}
